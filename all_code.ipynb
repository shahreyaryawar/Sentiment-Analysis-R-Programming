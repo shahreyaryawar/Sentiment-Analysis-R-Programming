{
  "nbformat": 4,
  "nbformat_minor": 0,
  "metadata": {
    "colab": {
      "name": "all_code.ipynb",
      "provenance": [],
      "collapsed_sections": [],
      "include_colab_link": true
    },
    "kernelspec": {
      "name": "python3",
      "display_name": "Python 3"
    },
    "language_info": {
      "name": "python"
    }
  },
  "cells": [
    {
      "cell_type": "markdown",
      "metadata": {
        "id": "view-in-github",
        "colab_type": "text"
      },
      "source": [
        "<a href=\"https://colab.research.google.com/github/shahreyaryawar/Sentiment-Analysis-R-Programming/blob/master/all_code.ipynb\" target=\"_parent\"><img src=\"https://colab.research.google.com/assets/colab-badge.svg\" alt=\"Open In Colab\"/></a>"
      ]
    },
    {
      "cell_type": "code",
      "execution_count": null,
      "metadata": {
        "id": "hA1bfgX2V66B"
      },
      "outputs": [],
      "source": [
        "import numpy as np\n",
        "import pandas as pd\n",
        "import seaborn as sns\n",
        "import matplotlib.pyplot as plt\n",
        "% matplotlib inline\n",
        "import math"
      ]
    },
    {
      "cell_type": "code",
      "source": [
        "from google.colab import drive\n",
        "drive.mount(\"/content/drive\")"
      ],
      "metadata": {
        "colab": {
          "base_uri": "https://localhost:8080/"
        },
        "id": "lH7Gy1x61trg",
        "outputId": "a055a043-d668-4d60-95c8-50b8380eb087"
      },
      "execution_count": null,
      "outputs": [
        {
          "output_type": "stream",
          "name": "stdout",
          "text": [
            "Mounted at /content/drive\n"
          ]
        }
      ]
    },
    {
      "cell_type": "code",
      "source": [
        "%cd /content/drive/MyDrive/shahreyar"
      ],
      "metadata": {
        "colab": {
          "base_uri": "https://localhost:8080/"
        },
        "id": "UEnBd3fg16px",
        "outputId": "c7482f63-a86d-4404-fae2-565d95aeb5d4"
      },
      "execution_count": null,
      "outputs": [
        {
          "output_type": "stream",
          "name": "stdout",
          "text": [
            "/content/drive/MyDrive/shahreyar\n"
          ]
        }
      ]
    },
    {
      "cell_type": "code",
      "source": [
        "!ls"
      ],
      "metadata": {
        "colab": {
          "base_uri": "https://localhost:8080/"
        },
        "id": "BvfWo5YZ1iow",
        "outputId": "f8e388cf-4776-4369-ad93-69709f958338"
      },
      "execution_count": null,
      "outputs": [
        {
          "output_type": "stream",
          "name": "stdout",
          "text": [
            "all_code.ipynb\tEWS_197.csv\t      Inference_70.csv\tlr.pkl\txgb.pkl\n",
            "ce_ohe.pkl\tinfer_data_final.csv  knn.pkl\t\trf.pkl\n"
          ]
        }
      ]
    },
    {
      "cell_type": "code",
      "source": [
        "EWS_data= pd.read_csv('EWS_197.csv')"
      ],
      "metadata": {
        "id": "vPQqHhZnWVDe"
      },
      "execution_count": null,
      "outputs": []
    },
    {
      "cell_type": "code",
      "source": [
        "EWS_data.head(10)"
      ],
      "metadata": {
        "colab": {
          "base_uri": "https://localhost:8080/",
          "height": 363
        },
        "id": "zzHENH_uWfN7",
        "outputId": "e249ec5f-2eb4-4634-e4f1-8cc819221f52"
      },
      "execution_count": null,
      "outputs": [
        {
          "output_type": "execute_result",
          "data": {
            "text/plain": [
              "   ID  Status  Age  Campus  Gender  Compa  Leaves   Ratings  Promotion  \\\n",
              "0   1       1   23       1       1  0.686      17  3.000000          1   \n",
              "1   2       1   25       1       1  0.733      18  4.000000          0   \n",
              "2   3       1   24       0       1  0.389       4  4.500000          1   \n",
              "3   4       1   26       0       1  0.622      16  3.000000          1   \n",
              "4   5       1   27       1       1  0.857      25  3.000000          1   \n",
              "5   6       1   23       1       1  1.086      17  4.250000          0   \n",
              "6   7       1   27       1       1  0.673      30  3.583333          0   \n",
              "7   8       1   26       0       1  0.673      21  3.250000          2   \n",
              "8   9       1   24       0       1  1.067      17  3.750000          1   \n",
              "9  10       1   24       1       1  1.229      25  4.500000          1   \n",
              "\n",
              "   Potential  Performance  \n",
              "0        4.0          4.0  \n",
              "1        5.0          4.5  \n",
              "2        5.0          4.5  \n",
              "3        4.0          4.0  \n",
              "4        3.5          3.5  \n",
              "5        3.5          3.5  \n",
              "6        4.0          4.0  \n",
              "7        3.0          3.0  \n",
              "8        3.5          3.5  \n",
              "9        4.5          4.0  "
            ],
            "text/html": [
              "\n",
              "  <div id=\"df-87d8e448-cdf5-46ee-9518-5e76500bbec4\">\n",
              "    <div class=\"colab-df-container\">\n",
              "      <div>\n",
              "<style scoped>\n",
              "    .dataframe tbody tr th:only-of-type {\n",
              "        vertical-align: middle;\n",
              "    }\n",
              "\n",
              "    .dataframe tbody tr th {\n",
              "        vertical-align: top;\n",
              "    }\n",
              "\n",
              "    .dataframe thead th {\n",
              "        text-align: right;\n",
              "    }\n",
              "</style>\n",
              "<table border=\"1\" class=\"dataframe\">\n",
              "  <thead>\n",
              "    <tr style=\"text-align: right;\">\n",
              "      <th></th>\n",
              "      <th>ID</th>\n",
              "      <th>Status</th>\n",
              "      <th>Age</th>\n",
              "      <th>Campus</th>\n",
              "      <th>Gender</th>\n",
              "      <th>Compa</th>\n",
              "      <th>Leaves</th>\n",
              "      <th>Ratings</th>\n",
              "      <th>Promotion</th>\n",
              "      <th>Potential</th>\n",
              "      <th>Performance</th>\n",
              "    </tr>\n",
              "  </thead>\n",
              "  <tbody>\n",
              "    <tr>\n",
              "      <th>0</th>\n",
              "      <td>1</td>\n",
              "      <td>1</td>\n",
              "      <td>23</td>\n",
              "      <td>1</td>\n",
              "      <td>1</td>\n",
              "      <td>0.686</td>\n",
              "      <td>17</td>\n",
              "      <td>3.000000</td>\n",
              "      <td>1</td>\n",
              "      <td>4.0</td>\n",
              "      <td>4.0</td>\n",
              "    </tr>\n",
              "    <tr>\n",
              "      <th>1</th>\n",
              "      <td>2</td>\n",
              "      <td>1</td>\n",
              "      <td>25</td>\n",
              "      <td>1</td>\n",
              "      <td>1</td>\n",
              "      <td>0.733</td>\n",
              "      <td>18</td>\n",
              "      <td>4.000000</td>\n",
              "      <td>0</td>\n",
              "      <td>5.0</td>\n",
              "      <td>4.5</td>\n",
              "    </tr>\n",
              "    <tr>\n",
              "      <th>2</th>\n",
              "      <td>3</td>\n",
              "      <td>1</td>\n",
              "      <td>24</td>\n",
              "      <td>0</td>\n",
              "      <td>1</td>\n",
              "      <td>0.389</td>\n",
              "      <td>4</td>\n",
              "      <td>4.500000</td>\n",
              "      <td>1</td>\n",
              "      <td>5.0</td>\n",
              "      <td>4.5</td>\n",
              "    </tr>\n",
              "    <tr>\n",
              "      <th>3</th>\n",
              "      <td>4</td>\n",
              "      <td>1</td>\n",
              "      <td>26</td>\n",
              "      <td>0</td>\n",
              "      <td>1</td>\n",
              "      <td>0.622</td>\n",
              "      <td>16</td>\n",
              "      <td>3.000000</td>\n",
              "      <td>1</td>\n",
              "      <td>4.0</td>\n",
              "      <td>4.0</td>\n",
              "    </tr>\n",
              "    <tr>\n",
              "      <th>4</th>\n",
              "      <td>5</td>\n",
              "      <td>1</td>\n",
              "      <td>27</td>\n",
              "      <td>1</td>\n",
              "      <td>1</td>\n",
              "      <td>0.857</td>\n",
              "      <td>25</td>\n",
              "      <td>3.000000</td>\n",
              "      <td>1</td>\n",
              "      <td>3.5</td>\n",
              "      <td>3.5</td>\n",
              "    </tr>\n",
              "    <tr>\n",
              "      <th>5</th>\n",
              "      <td>6</td>\n",
              "      <td>1</td>\n",
              "      <td>23</td>\n",
              "      <td>1</td>\n",
              "      <td>1</td>\n",
              "      <td>1.086</td>\n",
              "      <td>17</td>\n",
              "      <td>4.250000</td>\n",
              "      <td>0</td>\n",
              "      <td>3.5</td>\n",
              "      <td>3.5</td>\n",
              "    </tr>\n",
              "    <tr>\n",
              "      <th>6</th>\n",
              "      <td>7</td>\n",
              "      <td>1</td>\n",
              "      <td>27</td>\n",
              "      <td>1</td>\n",
              "      <td>1</td>\n",
              "      <td>0.673</td>\n",
              "      <td>30</td>\n",
              "      <td>3.583333</td>\n",
              "      <td>0</td>\n",
              "      <td>4.0</td>\n",
              "      <td>4.0</td>\n",
              "    </tr>\n",
              "    <tr>\n",
              "      <th>7</th>\n",
              "      <td>8</td>\n",
              "      <td>1</td>\n",
              "      <td>26</td>\n",
              "      <td>0</td>\n",
              "      <td>1</td>\n",
              "      <td>0.673</td>\n",
              "      <td>21</td>\n",
              "      <td>3.250000</td>\n",
              "      <td>2</td>\n",
              "      <td>3.0</td>\n",
              "      <td>3.0</td>\n",
              "    </tr>\n",
              "    <tr>\n",
              "      <th>8</th>\n",
              "      <td>9</td>\n",
              "      <td>1</td>\n",
              "      <td>24</td>\n",
              "      <td>0</td>\n",
              "      <td>1</td>\n",
              "      <td>1.067</td>\n",
              "      <td>17</td>\n",
              "      <td>3.750000</td>\n",
              "      <td>1</td>\n",
              "      <td>3.5</td>\n",
              "      <td>3.5</td>\n",
              "    </tr>\n",
              "    <tr>\n",
              "      <th>9</th>\n",
              "      <td>10</td>\n",
              "      <td>1</td>\n",
              "      <td>24</td>\n",
              "      <td>1</td>\n",
              "      <td>1</td>\n",
              "      <td>1.229</td>\n",
              "      <td>25</td>\n",
              "      <td>4.500000</td>\n",
              "      <td>1</td>\n",
              "      <td>4.5</td>\n",
              "      <td>4.0</td>\n",
              "    </tr>\n",
              "  </tbody>\n",
              "</table>\n",
              "</div>\n",
              "      <button class=\"colab-df-convert\" onclick=\"convertToInteractive('df-87d8e448-cdf5-46ee-9518-5e76500bbec4')\"\n",
              "              title=\"Convert this dataframe to an interactive table.\"\n",
              "              style=\"display:none;\">\n",
              "        \n",
              "  <svg xmlns=\"http://www.w3.org/2000/svg\" height=\"24px\"viewBox=\"0 0 24 24\"\n",
              "       width=\"24px\">\n",
              "    <path d=\"M0 0h24v24H0V0z\" fill=\"none\"/>\n",
              "    <path d=\"M18.56 5.44l.94 2.06.94-2.06 2.06-.94-2.06-.94-.94-2.06-.94 2.06-2.06.94zm-11 1L8.5 8.5l.94-2.06 2.06-.94-2.06-.94L8.5 2.5l-.94 2.06-2.06.94zm10 10l.94 2.06.94-2.06 2.06-.94-2.06-.94-.94-2.06-.94 2.06-2.06.94z\"/><path d=\"M17.41 7.96l-1.37-1.37c-.4-.4-.92-.59-1.43-.59-.52 0-1.04.2-1.43.59L10.3 9.45l-7.72 7.72c-.78.78-.78 2.05 0 2.83L4 21.41c.39.39.9.59 1.41.59.51 0 1.02-.2 1.41-.59l7.78-7.78 2.81-2.81c.8-.78.8-2.07 0-2.86zM5.41 20L4 18.59l7.72-7.72 1.47 1.35L5.41 20z\"/>\n",
              "  </svg>\n",
              "      </button>\n",
              "      \n",
              "  <style>\n",
              "    .colab-df-container {\n",
              "      display:flex;\n",
              "      flex-wrap:wrap;\n",
              "      gap: 12px;\n",
              "    }\n",
              "\n",
              "    .colab-df-convert {\n",
              "      background-color: #E8F0FE;\n",
              "      border: none;\n",
              "      border-radius: 50%;\n",
              "      cursor: pointer;\n",
              "      display: none;\n",
              "      fill: #1967D2;\n",
              "      height: 32px;\n",
              "      padding: 0 0 0 0;\n",
              "      width: 32px;\n",
              "    }\n",
              "\n",
              "    .colab-df-convert:hover {\n",
              "      background-color: #E2EBFA;\n",
              "      box-shadow: 0px 1px 2px rgba(60, 64, 67, 0.3), 0px 1px 3px 1px rgba(60, 64, 67, 0.15);\n",
              "      fill: #174EA6;\n",
              "    }\n",
              "\n",
              "    [theme=dark] .colab-df-convert {\n",
              "      background-color: #3B4455;\n",
              "      fill: #D2E3FC;\n",
              "    }\n",
              "\n",
              "    [theme=dark] .colab-df-convert:hover {\n",
              "      background-color: #434B5C;\n",
              "      box-shadow: 0px 1px 3px 1px rgba(0, 0, 0, 0.15);\n",
              "      filter: drop-shadow(0px 1px 2px rgba(0, 0, 0, 0.3));\n",
              "      fill: #FFFFFF;\n",
              "    }\n",
              "  </style>\n",
              "\n",
              "      <script>\n",
              "        const buttonEl =\n",
              "          document.querySelector('#df-87d8e448-cdf5-46ee-9518-5e76500bbec4 button.colab-df-convert');\n",
              "        buttonEl.style.display =\n",
              "          google.colab.kernel.accessAllowed ? 'block' : 'none';\n",
              "\n",
              "        async function convertToInteractive(key) {\n",
              "          const element = document.querySelector('#df-87d8e448-cdf5-46ee-9518-5e76500bbec4');\n",
              "          const dataTable =\n",
              "            await google.colab.kernel.invokeFunction('convertToInteractive',\n",
              "                                                     [key], {});\n",
              "          if (!dataTable) return;\n",
              "\n",
              "          const docLinkHtml = 'Like what you see? Visit the ' +\n",
              "            '<a target=\"_blank\" href=https://colab.research.google.com/notebooks/data_table.ipynb>data table notebook</a>'\n",
              "            + ' to learn more about interactive tables.';\n",
              "          element.innerHTML = '';\n",
              "          dataTable['output_type'] = 'display_data';\n",
              "          await google.colab.output.renderOutput(dataTable, element);\n",
              "          const docLink = document.createElement('div');\n",
              "          docLink.innerHTML = docLinkHtml;\n",
              "          element.appendChild(docLink);\n",
              "        }\n",
              "      </script>\n",
              "    </div>\n",
              "  </div>\n",
              "  "
            ]
          },
          "metadata": {},
          "execution_count": 10
        }
      ]
    },
    {
      "cell_type": "code",
      "source": [
        "#Analyzing Data\n",
        "sns.countplot(x= \"Status\", data= EWS_data)"
      ],
      "metadata": {
        "colab": {
          "base_uri": "https://localhost:8080/",
          "height": 297
        },
        "id": "_OO_5YHgWmZ7",
        "outputId": "952b2791-a44b-47aa-b58a-7f9e27224dbd"
      },
      "execution_count": null,
      "outputs": [
        {
          "output_type": "execute_result",
          "data": {
            "text/plain": [
              "<matplotlib.axes._subplots.AxesSubplot at 0x7fe1f5aed790>"
            ]
          },
          "metadata": {},
          "execution_count": 7
        },
        {
          "output_type": "display_data",
          "data": {
            "text/plain": [
              "<Figure size 432x288 with 1 Axes>"
            ],
            "image/png": "[encoded data removed]"
          },
          "metadata": {
            "needs_background": "light"
          }
        }
      ]
    },
    {
      "cell_type": "code",
      "source": [
        "sns.countplot(x= \"Status\",hue= \"Gender\", data= EWS_data)"
      ],
      "metadata": {
        "colab": {
          "base_uri": "https://localhost:8080/",
          "height": 300
        },
        "id": "1ogDUGRhWuxs",
        "outputId": "eae3b28d-7237-48bf-cf8b-d939e4fe9ee9"
      },
      "execution_count": null,
      "outputs": [
        {
          "output_type": "execute_result",
          "data": {
            "text/plain": [
              "<matplotlib.axes._subplots.AxesSubplot at 0x7fe1f5a85e90>"
            ]
          },
          "metadata": {},
          "execution_count": 8
        },
        {
          "output_type": "display_data",
          "data": {
            "text/plain": [
              "<Figure size 432x288 with 1 Axes>"
            ],
            "image/png": "[encoded data removed]"
          },
          "metadata": {
            "needs_background": "light"
          }
        }
      ]
    },
    {
      "cell_type": "code",
      "source": [
        "sns.countplot(x= \"Status\",hue= \"Campus\", data= EWS_data)"
      ],
      "metadata": {
        "colab": {
          "base_uri": "https://localhost:8080/",
          "height": 300
        },
        "id": "qAsxBvfiW3Dh",
        "outputId": "2a4eb50e-5b5d-4de2-d33a-f8f40d45a239"
      },
      "execution_count": null,
      "outputs": [
        {
          "output_type": "execute_result",
          "data": {
            "text/plain": [
              "<matplotlib.axes._subplots.AxesSubplot at 0x7fe1f5585050>"
            ]
          },
          "metadata": {},
          "execution_count": 9
        },
        {
          "output_type": "display_data",
          "data": {
            "text/plain": [
              "<Figure size 432x288 with 1 Axes>"
            ],
            "image/png": "[encoded data removed]"
          },
          "metadata": {
            "needs_background": "light"
          }
        }
      ]
    },
    {
      "cell_type": "code",
      "source": [
        "sns.countplot(x= \"Status\",hue= \"Performance\", data= EWS_data)"
      ],
      "metadata": {
        "colab": {
          "base_uri": "https://localhost:8080/",
          "height": 297
        },
        "id": "2uXZ0eUHW_kK",
        "outputId": "f1608015-983d-4261-9598-501d6ca21e9f"
      },
      "execution_count": null,
      "outputs": [
        {
          "output_type": "execute_result",
          "data": {
            "text/plain": [
              "<matplotlib.axes._subplots.AxesSubplot at 0x7fe1f54e27d0>"
            ]
          },
          "metadata": {},
          "execution_count": 10
        },
        {
          "output_type": "display_data",
          "data": {
            "text/plain": [
              "<Figure size 432x288 with 1 Axes>"
            ],
            "image/png": "[encoded data removed]"
          },
          "metadata": {
            "needs_background": "light"
          }
        }
      ]
    },
    {
      "cell_type": "code",
      "source": [
        "sns.countplot(x= \"Status\",hue= \"Potential\", data= EWS_data)"
      ],
      "metadata": {
        "colab": {
          "base_uri": "https://localhost:8080/",
          "height": 297
        },
        "id": "gGjyEGgXXJHj",
        "outputId": "0fdac996-39c2-464c-e1c9-c680418badc3"
      },
      "execution_count": null,
      "outputs": [
        {
          "output_type": "execute_result",
          "data": {
            "text/plain": [
              "<matplotlib.axes._subplots.AxesSubplot at 0x7fe1f547b050>"
            ]
          },
          "metadata": {},
          "execution_count": 11
        },
        {
          "output_type": "display_data",
          "data": {
            "text/plain": [
              "<Figure size 432x288 with 1 Axes>"
            ],
            "image/png": "[encoded data removed]"
          },
          "metadata": {
            "needs_background": "light"
          }
        }
      ]
    },
    {
      "cell_type": "code",
      "source": [
        "sns.countplot(x= \"Status\",hue= \"Promotion\", data= EWS_data)"
      ],
      "metadata": {
        "colab": {
          "base_uri": "https://localhost:8080/",
          "height": 297
        },
        "id": "rX_9UdhgXRZ3",
        "outputId": "85e6eaeb-e6a0-4f3f-9304-0ada46beedb3"
      },
      "execution_count": null,
      "outputs": [
        {
          "output_type": "execute_result",
          "data": {
            "text/plain": [
              "<matplotlib.axes._subplots.AxesSubplot at 0x7fe1f53af790>"
            ]
          },
          "metadata": {},
          "execution_count": 12
        },
        {
          "output_type": "display_data",
          "data": {
            "text/plain": [
              "<Figure size 432x288 with 1 Axes>"
            ],
            "image/png": "[encoded data removed]"
          },
          "metadata": {
            "needs_background": "light"
          }
        }
      ]
    },
    {
      "cell_type": "code",
      "source": [
        "EWS_data[\"Age\"].plot.hist()"
      ],
      "metadata": {
        "colab": {
          "base_uri": "https://localhost:8080/",
          "height": 283
        },
        "id": "SCPleH8FXX_R",
        "outputId": "81954ad6-d38a-4b56-b35f-833cf20e9694"
      },
      "execution_count": null,
      "outputs": [
        {
          "output_type": "execute_result",
          "data": {
            "text/plain": [
              "<matplotlib.axes._subplots.AxesSubplot at 0x7fe1f5308950>"
            ]
          },
          "metadata": {},
          "execution_count": 13
        },
        {
          "output_type": "display_data",
          "data": {
            "text/plain": [
              "<Figure size 432x288 with 1 Axes>"
            ],
            "image/png": "[encoded data removed]"
          },
          "metadata": {
            "needs_background": "light"
          }
        }
      ]
    },
    {
      "cell_type": "code",
      "source": [
        "EWS_data[\"Leaves\"].plot.hist()"
      ],
      "metadata": {
        "colab": {
          "base_uri": "https://localhost:8080/",
          "height": 283
        },
        "id": "2H130s4_X0fT",
        "outputId": "c06928ed-d08d-4eab-8333-bf61fa913283"
      },
      "execution_count": null,
      "outputs": [
        {
          "output_type": "execute_result",
          "data": {
            "text/plain": [
              "<matplotlib.axes._subplots.AxesSubplot at 0x7fe1f51b52d0>"
            ]
          },
          "metadata": {},
          "execution_count": 15
        },
        {
          "output_type": "display_data",
          "data": {
            "text/plain": [
              "<Figure size 432x288 with 1 Axes>"
            ],
            "image/png": "[encoded data removed]"
          },
          "metadata": {
            "needs_background": "light"
          }
        }
      ]
    },
    {
      "cell_type": "code",
      "source": [
        "EWS_data.info()"
      ],
      "metadata": {
        "colab": {
          "base_uri": "https://localhost:8080/"
        },
        "id": "pt35e576aA6m",
        "outputId": "85f89e0f-807e-4736-84ce-a1546bf35363"
      },
      "execution_count": null,
      "outputs": [
        {
          "output_type": "stream",
          "name": "stdout",
          "text": [
            "<class 'pandas.core.frame.DataFrame'>\n",
            "RangeIndex: 197 entries, 0 to 196\n",
            "Data columns (total 11 columns):\n",
            " #   Column       Non-Null Count  Dtype  \n",
            "---  ------       --------------  -----  \n",
            " 0   ID           197 non-null    int64  \n",
            " 1   Status       197 non-null    int64  \n",
            " 2   Age          197 non-null    int64  \n",
            " 3   Campus       197 non-null    int64  \n",
            " 4   Gender       197 non-null    int64  \n",
            " 5   Compa        197 non-null    float64\n",
            " 6   Leaves       197 non-null    int64  \n",
            " 7   Ratings      197 non-null    float64\n",
            " 8   Promotion    197 non-null    int64  \n",
            " 9   Potential    197 non-null    float64\n",
            " 10  Performance  197 non-null    float64\n",
            "dtypes: float64(4), int64(7)\n",
            "memory usage: 17.1 KB\n"
          ]
        }
      ]
    },
    {
      "cell_type": "code",
      "source": [
        "#Data wrangling\n",
        "EWS_data.isnull().sum()"
      ],
      "metadata": {
        "colab": {
          "base_uri": "https://localhost:8080/"
        },
        "id": "YT1PG8L5aJG-",
        "outputId": "573f01d2-7aaa-4af6-d059-e0244d39a571"
      },
      "execution_count": null,
      "outputs": [
        {
          "output_type": "execute_result",
          "data": {
            "text/plain": [
              "ID             0\n",
              "Status         0\n",
              "Age            0\n",
              "Campus         0\n",
              "Gender         0\n",
              "Compa          0\n",
              "Leaves         0\n",
              "Ratings        0\n",
              "Promotion      0\n",
              "Potential      0\n",
              "Performance    0\n",
              "dtype: int64"
            ]
          },
          "metadata": {},
          "execution_count": 17
        }
      ]
    },
    {
      "cell_type": "code",
      "source": [
        "EWS_data.head()"
      ],
      "metadata": {
        "colab": {
          "base_uri": "https://localhost:8080/",
          "height": 206
        },
        "id": "gKUR6c-l3b6P",
        "outputId": "1fd56cf9-a14e-4390-ea4f-5dcf0ff0a9fc"
      },
      "execution_count": null,
      "outputs": [
        {
          "output_type": "execute_result",
          "data": {
            "text/plain": [
              "   ID  Status  Age  Campus  Gender  Compa  Leaves  Ratings  Promotion  \\\n",
              "0   1       1   23       1       1  0.686      17      3.0          1   \n",
              "1   2       1   25       1       1  0.733      18      4.0          0   \n",
              "2   3       1   24       0       1  0.389       4      4.5          1   \n",
              "3   4       1   26       0       1  0.622      16      3.0          1   \n",
              "4   5       1   27       1       1  0.857      25      3.0          1   \n",
              "\n",
              "   Potential  Performance  \n",
              "0        4.0          4.0  \n",
              "1        5.0          4.5  \n",
              "2        5.0          4.5  \n",
              "3        4.0          4.0  \n",
              "4        3.5          3.5  "
            ],
            "text/html": [
              "\n",
              "  <div id=\"df-b271aee8-6fed-47c8-94e1-7b1d977e2117\">\n",
              "    <div class=\"colab-df-container\">\n",
              "      <div>\n",
              "<style scoped>\n",
              "    .dataframe tbody tr th:only-of-type {\n",
              "        vertical-align: middle;\n",
              "    }\n",
              "\n",
              "    .dataframe tbody tr th {\n",
              "        vertical-align: top;\n",
              "    }\n",
              "\n",
              "    .dataframe thead th {\n",
              "        text-align: right;\n",
              "    }\n",
              "</style>\n",
              "<table border=\"1\" class=\"dataframe\">\n",
              "  <thead>\n",
              "    <tr style=\"text-align: right;\">\n",
              "      <th></th>\n",
              "      <th>ID</th>\n",
              "      <th>Status</th>\n",
              "      <th>Age</th>\n",
              "      <th>Campus</th>\n",
              "      <th>Gender</th>\n",
              "      <th>Compa</th>\n",
              "      <th>Leaves</th>\n",
              "      <th>Ratings</th>\n",
              "      <th>Promotion</th>\n",
              "      <th>Potential</th>\n",
              "      <th>Performance</th>\n",
              "    </tr>\n",
              "  </thead>\n",
              "  <tbody>\n",
              "    <tr>\n",
              "      <th>0</th>\n",
              "      <td>1</td>\n",
              "      <td>1</td>\n",
              "      <td>23</td>\n",
              "      <td>1</td>\n",
              "      <td>1</td>\n",
              "      <td>0.686</td>\n",
              "      <td>17</td>\n",
              "      <td>3.0</td>\n",
              "      <td>1</td>\n",
              "      <td>4.0</td>\n",
              "      <td>4.0</td>\n",
              "    </tr>\n",
              "    <tr>\n",
              "      <th>1</th>\n",
              "      <td>2</td>\n",
              "      <td>1</td>\n",
              "      <td>25</td>\n",
              "      <td>1</td>\n",
              "      <td>1</td>\n",
              "      <td>0.733</td>\n",
              "      <td>18</td>\n",
              "      <td>4.0</td>\n",
              "      <td>0</td>\n",
              "      <td>5.0</td>\n",
              "      <td>4.5</td>\n",
              "    </tr>\n",
              "    <tr>\n",
              "      <th>2</th>\n",
              "      <td>3</td>\n",
              "      <td>1</td>\n",
              "      <td>24</td>\n",
              "      <td>0</td>\n",
              "      <td>1</td>\n",
              "      <td>0.389</td>\n",
              "      <td>4</td>\n",
              "      <td>4.5</td>\n",
              "      <td>1</td>\n",
              "      <td>5.0</td>\n",
              "      <td>4.5</td>\n",
              "    </tr>\n",
              "    <tr>\n",
              "      <th>3</th>\n",
              "      <td>4</td>\n",
              "      <td>1</td>\n",
              "      <td>26</td>\n",
              "      <td>0</td>\n",
              "      <td>1</td>\n",
              "      <td>0.622</td>\n",
              "      <td>16</td>\n",
              "      <td>3.0</td>\n",
              "      <td>1</td>\n",
              "      <td>4.0</td>\n",
              "      <td>4.0</td>\n",
              "    </tr>\n",
              "    <tr>\n",
              "      <th>4</th>\n",
              "      <td>5</td>\n",
              "      <td>1</td>\n",
              "      <td>27</td>\n",
              "      <td>1</td>\n",
              "      <td>1</td>\n",
              "      <td>0.857</td>\n",
              "      <td>25</td>\n",
              "      <td>3.0</td>\n",
              "      <td>1</td>\n",
              "      <td>3.5</td>\n",
              "      <td>3.5</td>\n",
              "    </tr>\n",
              "  </tbody>\n",
              "</table>\n",
              "</div>\n",
              "      <button class=\"colab-df-convert\" onclick=\"convertToInteractive('df-b271aee8-6fed-47c8-94e1-7b1d977e2117')\"\n",
              "              title=\"Convert this dataframe to an interactive table.\"\n",
              "              style=\"display:none;\">\n",
              "        \n",
              "  <svg xmlns=\"http://www.w3.org/2000/svg\" height=\"24px\"viewBox=\"0 0 24 24\"\n",
              "       width=\"24px\">\n",
              "    <path d=\"M0 0h24v24H0V0z\" fill=\"none\"/>\n",
              "    <path d=\"M18.56 5.44l.94 2.06.94-2.06 2.06-.94-2.06-.94-.94-2.06-.94 2.06-2.06.94zm-11 1L8.5 8.5l.94-2.06 2.06-.94-2.06-.94L8.5 2.5l-.94 2.06-2.06.94zm10 10l.94 2.06.94-2.06 2.06-.94-2.06-.94-.94-2.06-.94 2.06-2.06.94z\"/><path d=\"M17.41 7.96l-1.37-1.37c-.4-.4-.92-.59-1.43-.59-.52 0-1.04.2-1.43.59L10.3 9.45l-7.72 7.72c-.78.78-.78 2.05 0 2.83L4 21.41c.39.39.9.59 1.41.59.51 0 1.02-.2 1.41-.59l7.78-7.78 2.81-2.81c.8-.78.8-2.07 0-2.86zM5.41 20L4 18.59l7.72-7.72 1.47 1.35L5.41 20z\"/>\n",
              "  </svg>\n",
              "      </button>\n",
              "      \n",
              "  <style>\n",
              "    .colab-df-container {\n",
              "      display:flex;\n",
              "      flex-wrap:wrap;\n",
              "      gap: 12px;\n",
              "    }\n",
              "\n",
              "    .colab-df-convert {\n",
              "      background-color: #E8F0FE;\n",
              "      border: none;\n",
              "      border-radius: 50%;\n",
              "      cursor: pointer;\n",
              "      display: none;\n",
              "      fill: #1967D2;\n",
              "      height: 32px;\n",
              "      padding: 0 0 0 0;\n",
              "      width: 32px;\n",
              "    }\n",
              "\n",
              "    .colab-df-convert:hover {\n",
              "      background-color: #E2EBFA;\n",
              "      box-shadow: 0px 1px 2px rgba(60, 64, 67, 0.3), 0px 1px 3px 1px rgba(60, 64, 67, 0.15);\n",
              "      fill: #174EA6;\n",
              "    }\n",
              "\n",
              "    [theme=dark] .colab-df-convert {\n",
              "      background-color: #3B4455;\n",
              "      fill: #D2E3FC;\n",
              "    }\n",
              "\n",
              "    [theme=dark] .colab-df-convert:hover {\n",
              "      background-color: #434B5C;\n",
              "      box-shadow: 0px 1px 3px 1px rgba(0, 0, 0, 0.15);\n",
              "      filter: drop-shadow(0px 1px 2px rgba(0, 0, 0, 0.3));\n",
              "      fill: #FFFFFF;\n",
              "    }\n",
              "  </style>\n",
              "\n",
              "      <script>\n",
              "        const buttonEl =\n",
              "          document.querySelector('#df-b271aee8-6fed-47c8-94e1-7b1d977e2117 button.colab-df-convert');\n",
              "        buttonEl.style.display =\n",
              "          google.colab.kernel.accessAllowed ? 'block' : 'none';\n",
              "\n",
              "        async function convertToInteractive(key) {\n",
              "          const element = document.querySelector('#df-b271aee8-6fed-47c8-94e1-7b1d977e2117');\n",
              "          const dataTable =\n",
              "            await google.colab.kernel.invokeFunction('convertToInteractive',\n",
              "                                                     [key], {});\n",
              "          if (!dataTable) return;\n",
              "\n",
              "          const docLinkHtml = 'Like what you see? Visit the ' +\n",
              "            '<a target=\"_blank\" href=https://colab.research.google.com/notebooks/data_table.ipynb>data table notebook</a>'\n",
              "            + ' to learn more about interactive tables.';\n",
              "          element.innerHTML = '';\n",
              "          dataTable['output_type'] = 'display_data';\n",
              "          await google.colab.output.renderOutput(dataTable, element);\n",
              "          const docLink = document.createElement('div');\n",
              "          docLink.innerHTML = docLinkHtml;\n",
              "          element.appendChild(docLink);\n",
              "        }\n",
              "      </script>\n",
              "    </div>\n",
              "  </div>\n",
              "  "
            ]
          },
          "metadata": {},
          "execution_count": 18
        }
      ]
    },
    {
      "cell_type": "code",
      "source": [
        "ohe_features= [\"Potential\", \"Performance\"]"
      ],
      "metadata": {
        "id": "_EAZy-zh3Mut"
      },
      "execution_count": null,
      "outputs": []
    },
    {
      "cell_type": "code",
      "source": [
        "!pip install category_encoders"
      ],
      "metadata": {
        "colab": {
          "base_uri": "https://localhost:8080/"
        },
        "id": "rPljpHYb5m-r",
        "outputId": "5f5d62c8-8c2c-4e95-a5c8-17bd3140118c"
      },
      "execution_count": null,
      "outputs": [
        {
          "output_type": "stream",
          "name": "stdout",
          "text": [
            "Collecting category_encoders\n",
            "  Downloading category_encoders-2.4.1-py2.py3-none-any.whl (80 kB)\n",
            "\u001b[?25l\r\u001b[K     |████                            | 10 kB 17.8 MB/s eta 0:00:01\r\u001b[K     |████████                        | 20 kB 24.5 MB/s eta 0:00:01\r\u001b[K     |████████████▏                   | 30 kB 30.8 MB/s eta 0:00:01\r\u001b[K     |████████████████▏               | 40 kB 33.0 MB/s eta 0:00:01\r\u001b[K     |████████████████████▎           | 51 kB 22.4 MB/s eta 0:00:01\r\u001b[K     |████████████████████████▎       | 61 kB 24.8 MB/s eta 0:00:01\r\u001b[K     |████████████████████████████▍   | 71 kB 26.5 MB/s eta 0:00:01\r\u001b[K     |████████████████████████████████| 80 kB 8.0 MB/s \n",
            "\u001b[?25hRequirement already satisfied: numpy>=1.14.0 in /usr/local/lib/python3.7/dist-packages (from category_encoders) (1.21.6)\n",
            "Requirement already satisfied: scipy>=1.0.0 in /usr/local/lib/python3.7/dist-packages (from category_encoders) (1.4.1)\n",
            "Requirement already satisfied: patsy>=0.5.1 in /usr/local/lib/python3.7/dist-packages (from category_encoders) (0.5.2)\n",
            "Requirement already satisfied: statsmodels>=0.9.0 in /usr/local/lib/python3.7/dist-packages (from category_encoders) (0.10.2)\n",
            "Requirement already satisfied: scikit-learn>=0.20.0 in /usr/local/lib/python3.7/dist-packages (from category_encoders) (1.0.2)\n",
            "Requirement already satisfied: pandas>=0.21.1 in /usr/local/lib/python3.7/dist-packages (from category_encoders) (1.3.5)\n",
            "Requirement already satisfied: python-dateutil>=2.7.3 in /usr/local/lib/python3.7/dist-packages (from pandas>=0.21.1->category_encoders) (2.8.2)\n",
            "Requirement already satisfied: pytz>=2017.3 in /usr/local/lib/python3.7/dist-packages (from pandas>=0.21.1->category_encoders) (2022.1)\n",
            "Requirement already satisfied: six in /usr/local/lib/python3.7/dist-packages (from patsy>=0.5.1->category_encoders) (1.15.0)\n",
            "Requirement already satisfied: joblib>=0.11 in /usr/local/lib/python3.7/dist-packages (from scikit-learn>=0.20.0->category_encoders) (1.1.0)\n",
            "Requirement already satisfied: threadpoolctl>=2.0.0 in /usr/local/lib/python3.7/dist-packages (from scikit-learn>=0.20.0->category_encoders) (3.1.0)\n",
            "Installing collected packages: category-encoders\n",
            "Successfully installed category-encoders-2.4.1\n"
          ]
        }
      ]
    },
    {
      "cell_type": "code",
      "source": [
        "from category_encoders import one_hot\n",
        "import joblib"
      ],
      "metadata": {
        "colab": {
          "base_uri": "https://localhost:8080/"
        },
        "id": "RX35Shlj5g1c",
        "outputId": "35ce20a5-51a0-4357-d273-e3c7dd72e2e0"
      },
      "execution_count": null,
      "outputs": [
        {
          "output_type": "stream",
          "name": "stderr",
          "text": [
            "/usr/local/lib/python3.7/dist-packages/statsmodels/tools/_testing.py:19: FutureWarning: pandas.util.testing is deprecated. Use the functions in the public API at pandas.testing instead.\n",
            "  import pandas.util.testing as tm\n"
          ]
        }
      ]
    },
    {
      "cell_type": "code",
      "source": [
        "EWS_data[ohe_features] = EWS_data[ohe_features].astype('str')"
      ],
      "metadata": {
        "id": "DaTjp5RB8b6s"
      },
      "execution_count": null,
      "outputs": []
    },
    {
      "cell_type": "code",
      "source": [
        "EWS_data[ohe_features].dtypes"
      ],
      "metadata": {
        "colab": {
          "base_uri": "https://localhost:8080/"
        },
        "id": "nj-Xcxjs8rit",
        "outputId": "3cb90f60-f584-4fff-c9dc-6a765f865dc6"
      },
      "execution_count": null,
      "outputs": [
        {
          "output_type": "execute_result",
          "data": {
            "text/plain": [
              "Potential      object\n",
              "Performance    object\n",
              "dtype: object"
            ]
          },
          "metadata": {},
          "execution_count": 23
        }
      ]
    },
    {
      "cell_type": "code",
      "source": [
        "def OneHot(df,feature_list = ohe_features,mode=None):\n",
        "    if mode=='train':\n",
        "        ce_ohe = one_hot.OneHotEncoder(use_cat_names = True)\n",
        "        ce_dummies = ce_ohe.fit_transform(df[feature_list])\n",
        "        #joblib.dump(ce_ohe, 'ce_ohe.pkl')\n",
        "\n",
        "        # Train\n",
        "        print(df.shape,ce_dummies.shape, end='||')\n",
        "        df = pd.concat([df.reset_index(drop=True), ce_dummies.reset_index(drop=True)],axis=1)\n",
        "        print(df.shape, end='||')\n",
        "        df.drop(columns=feature_list,inplace=True)\n",
        "        print(df.shape)\n",
        "        return df\n",
        "        \n",
        "    if mode=='infer':\n",
        "        # Test\n",
        "        ce_ohe = joblib.load('ce_ohe.pkl')\n",
        "        ce_dummies = ce_ohe.transform(df[feature_list])\n",
        "        df = pd.concat([df.reset_index(drop=True), ce_dummies.reset_index(drop=True)],axis=1)\n",
        "        df.drop(columns=feature_list,inplace=True)\n",
        "        return df"
      ],
      "metadata": {
        "id": "cG9WFZir4S1Y"
      },
      "execution_count": null,
      "outputs": []
    },
    {
      "cell_type": "code",
      "source": [
        "df_train= OneHot(EWS_data,feature_list = ohe_features,mode= \"train\")"
      ],
      "metadata": {
        "id": "mCYTtD2d4vU2",
        "colab": {
          "base_uri": "https://localhost:8080/"
        },
        "outputId": "24a20e50-14cb-47b3-a946-54e22593549e"
      },
      "execution_count": null,
      "outputs": [
        {
          "output_type": "stream",
          "name": "stdout",
          "text": [
            "(197, 11) (197, 12)||(197, 23)||(197, 21)\n"
          ]
        }
      ]
    },
    {
      "cell_type": "code",
      "source": [
        "EWS_data.head()"
      ],
      "metadata": {
        "colab": {
          "base_uri": "https://localhost:8080/",
          "height": 206
        },
        "id": "Qaf_55SV70-n",
        "outputId": "42f8d29b-53ea-48bf-cf15-e0d62d76d05a"
      },
      "execution_count": null,
      "outputs": [
        {
          "output_type": "execute_result",
          "data": {
            "text/plain": [
              "   ID  Status  Age  Campus  Gender  Compa  Leaves  Ratings  Promotion  \\\n",
              "0   1       1   23       1       1  0.686      17      3.0          1   \n",
              "1   2       1   25       1       1  0.733      18      4.0          0   \n",
              "2   3       1   24       0       1  0.389       4      4.5          1   \n",
              "3   4       1   26       0       1  0.622      16      3.0          1   \n",
              "4   5       1   27       1       1  0.857      25      3.0          1   \n",
              "\n",
              "  Potential Performance  \n",
              "0       4.0         4.0  \n",
              "1       5.0         4.5  \n",
              "2       5.0         4.5  \n",
              "3       4.0         4.0  \n",
              "4       3.5         3.5  "
            ],
            "text/html": [
              "\n",
              "  <div id=\"df-28fd619b-954d-496c-bef8-dde0a87eeb22\">\n",
              "    <div class=\"colab-df-container\">\n",
              "      <div>\n",
              "<style scoped>\n",
              "    .dataframe tbody tr th:only-of-type {\n",
              "        vertical-align: middle;\n",
              "    }\n",
              "\n",
              "    .dataframe tbody tr th {\n",
              "        vertical-align: top;\n",
              "    }\n",
              "\n",
              "    .dataframe thead th {\n",
              "        text-align: right;\n",
              "    }\n",
              "</style>\n",
              "<table border=\"1\" class=\"dataframe\">\n",
              "  <thead>\n",
              "    <tr style=\"text-align: right;\">\n",
              "      <th></th>\n",
              "      <th>ID</th>\n",
              "      <th>Status</th>\n",
              "      <th>Age</th>\n",
              "      <th>Campus</th>\n",
              "      <th>Gender</th>\n",
              "      <th>Compa</th>\n",
              "      <th>Leaves</th>\n",
              "      <th>Ratings</th>\n",
              "      <th>Promotion</th>\n",
              "      <th>Potential</th>\n",
              "      <th>Performance</th>\n",
              "    </tr>\n",
              "  </thead>\n",
              "  <tbody>\n",
              "    <tr>\n",
              "      <th>0</th>\n",
              "      <td>1</td>\n",
              "      <td>1</td>\n",
              "      <td>23</td>\n",
              "      <td>1</td>\n",
              "      <td>1</td>\n",
              "      <td>0.686</td>\n",
              "      <td>17</td>\n",
              "      <td>3.0</td>\n",
              "      <td>1</td>\n",
              "      <td>4.0</td>\n",
              "      <td>4.0</td>\n",
              "    </tr>\n",
              "    <tr>\n",
              "      <th>1</th>\n",
              "      <td>2</td>\n",
              "      <td>1</td>\n",
              "      <td>25</td>\n",
              "      <td>1</td>\n",
              "      <td>1</td>\n",
              "      <td>0.733</td>\n",
              "      <td>18</td>\n",
              "      <td>4.0</td>\n",
              "      <td>0</td>\n",
              "      <td>5.0</td>\n",
              "      <td>4.5</td>\n",
              "    </tr>\n",
              "    <tr>\n",
              "      <th>2</th>\n",
              "      <td>3</td>\n",
              "      <td>1</td>\n",
              "      <td>24</td>\n",
              "      <td>0</td>\n",
              "      <td>1</td>\n",
              "      <td>0.389</td>\n",
              "      <td>4</td>\n",
              "      <td>4.5</td>\n",
              "      <td>1</td>\n",
              "      <td>5.0</td>\n",
              "      <td>4.5</td>\n",
              "    </tr>\n",
              "    <tr>\n",
              "      <th>3</th>\n",
              "      <td>4</td>\n",
              "      <td>1</td>\n",
              "      <td>26</td>\n",
              "      <td>0</td>\n",
              "      <td>1</td>\n",
              "      <td>0.622</td>\n",
              "      <td>16</td>\n",
              "      <td>3.0</td>\n",
              "      <td>1</td>\n",
              "      <td>4.0</td>\n",
              "      <td>4.0</td>\n",
              "    </tr>\n",
              "    <tr>\n",
              "      <th>4</th>\n",
              "      <td>5</td>\n",
              "      <td>1</td>\n",
              "      <td>27</td>\n",
              "      <td>1</td>\n",
              "      <td>1</td>\n",
              "      <td>0.857</td>\n",
              "      <td>25</td>\n",
              "      <td>3.0</td>\n",
              "      <td>1</td>\n",
              "      <td>3.5</td>\n",
              "      <td>3.5</td>\n",
              "    </tr>\n",
              "  </tbody>\n",
              "</table>\n",
              "</div>\n",
              "      <button class=\"colab-df-convert\" onclick=\"convertToInteractive('df-28fd619b-954d-496c-bef8-dde0a87eeb22')\"\n",
              "              title=\"Convert this dataframe to an interactive table.\"\n",
              "              style=\"display:none;\">\n",
              "        \n",
              "  <svg xmlns=\"http://www.w3.org/2000/svg\" height=\"24px\"viewBox=\"0 0 24 24\"\n",
              "       width=\"24px\">\n",
              "    <path d=\"M0 0h24v24H0V0z\" fill=\"none\"/>\n",
              "    <path d=\"M18.56 5.44l.94 2.06.94-2.06 2.06-.94-2.06-.94-.94-2.06-.94 2.06-2.06.94zm-11 1L8.5 8.5l.94-2.06 2.06-.94-2.06-.94L8.5 2.5l-.94 2.06-2.06.94zm10 10l.94 2.06.94-2.06 2.06-.94-2.06-.94-.94-2.06-.94 2.06-2.06.94z\"/><path d=\"M17.41 7.96l-1.37-1.37c-.4-.4-.92-.59-1.43-.59-.52 0-1.04.2-1.43.59L10.3 9.45l-7.72 7.72c-.78.78-.78 2.05 0 2.83L4 21.41c.39.39.9.59 1.41.59.51 0 1.02-.2 1.41-.59l7.78-7.78 2.81-2.81c.8-.78.8-2.07 0-2.86zM5.41 20L4 18.59l7.72-7.72 1.47 1.35L5.41 20z\"/>\n",
              "  </svg>\n",
              "      </button>\n",
              "      \n",
              "  <style>\n",
              "    .colab-df-container {\n",
              "      display:flex;\n",
              "      flex-wrap:wrap;\n",
              "      gap: 12px;\n",
              "    }\n",
              "\n",
              "    .colab-df-convert {\n",
              "      background-color: #E8F0FE;\n",
              "      border: none;\n",
              "      border-radius: 50%;\n",
              "      cursor: pointer;\n",
              "      display: none;\n",
              "      fill: #1967D2;\n",
              "      height: 32px;\n",
              "      padding: 0 0 0 0;\n",
              "      width: 32px;\n",
              "    }\n",
              "\n",
              "    .colab-df-convert:hover {\n",
              "      background-color: #E2EBFA;\n",
              "      box-shadow: 0px 1px 2px rgba(60, 64, 67, 0.3), 0px 1px 3px 1px rgba(60, 64, 67, 0.15);\n",
              "      fill: #174EA6;\n",
              "    }\n",
              "\n",
              "    [theme=dark] .colab-df-convert {\n",
              "      background-color: #3B4455;\n",
              "      fill: #D2E3FC;\n",
              "    }\n",
              "\n",
              "    [theme=dark] .colab-df-convert:hover {\n",
              "      background-color: #434B5C;\n",
              "      box-shadow: 0px 1px 3px 1px rgba(0, 0, 0, 0.15);\n",
              "      filter: drop-shadow(0px 1px 2px rgba(0, 0, 0, 0.3));\n",
              "      fill: #FFFFFF;\n",
              "    }\n",
              "  </style>\n",
              "\n",
              "      <script>\n",
              "        const buttonEl =\n",
              "          document.querySelector('#df-28fd619b-954d-496c-bef8-dde0a87eeb22 button.colab-df-convert');\n",
              "        buttonEl.style.display =\n",
              "          google.colab.kernel.accessAllowed ? 'block' : 'none';\n",
              "\n",
              "        async function convertToInteractive(key) {\n",
              "          const element = document.querySelector('#df-28fd619b-954d-496c-bef8-dde0a87eeb22');\n",
              "          const dataTable =\n",
              "            await google.colab.kernel.invokeFunction('convertToInteractive',\n",
              "                                                     [key], {});\n",
              "          if (!dataTable) return;\n",
              "\n",
              "          const docLinkHtml = 'Like what you see? Visit the ' +\n",
              "            '<a target=\"_blank\" href=https://colab.research.google.com/notebooks/data_table.ipynb>data table notebook</a>'\n",
              "            + ' to learn more about interactive tables.';\n",
              "          element.innerHTML = '';\n",
              "          dataTable['output_type'] = 'display_data';\n",
              "          await google.colab.output.renderOutput(dataTable, element);\n",
              "          const docLink = document.createElement('div');\n",
              "          docLink.innerHTML = docLinkHtml;\n",
              "          element.appendChild(docLink);\n",
              "        }\n",
              "      </script>\n",
              "    </div>\n",
              "  </div>\n",
              "  "
            ]
          },
          "metadata": {},
          "execution_count": 26
        }
      ]
    },
    {
      "cell_type": "code",
      "source": [
        "pd.set_option('display.max_columns',100)"
      ],
      "metadata": {
        "id": "oYbBnIPX8zvL"
      },
      "execution_count": null,
      "outputs": []
    },
    {
      "cell_type": "code",
      "source": [
        "print(EWS_data['Performance'].value_counts().sort_index())\n",
        "print(EWS_data['Potential'].value_counts().sort_index())"
      ],
      "metadata": {
        "colab": {
          "base_uri": "https://localhost:8080/"
        },
        "id": "D0YeZHYG887N",
        "outputId": "9fe1c6f3-d11b-40d7-c726-86043c4ec20c"
      },
      "execution_count": null,
      "outputs": [
        {
          "output_type": "stream",
          "name": "stdout",
          "text": [
            "2.5     5\n",
            "3.0    30\n",
            "3.5    65\n",
            "4.0    61\n",
            "4.5    30\n",
            "5.0     6\n",
            "Name: Performance, dtype: int64\n",
            "2.5     2\n",
            "3.0    16\n",
            "3.5    58\n",
            "4.0    74\n",
            "4.5    36\n",
            "5.0    11\n",
            "Name: Potential, dtype: int64\n"
          ]
        }
      ]
    },
    {
      "cell_type": "code",
      "source": [
        "df_train.shape"
      ],
      "metadata": {
        "colab": {
          "base_uri": "https://localhost:8080/"
        },
        "id": "jx9cbLHG9fvg",
        "outputId": "716f3a77-73d1-411e-8253-309aee672bc1"
      },
      "execution_count": null,
      "outputs": [
        {
          "output_type": "execute_result",
          "data": {
            "text/plain": [
              "(197, 21)"
            ]
          },
          "metadata": {},
          "execution_count": 29
        }
      ]
    },
    {
      "cell_type": "code",
      "source": [
        "df_train.head()"
      ],
      "metadata": {
        "colab": {
          "base_uri": "https://localhost:8080/",
          "height": 270
        },
        "id": "UMSf3kwm5BTS",
        "outputId": "05ad03b1-0c6d-490d-9705-4ec7026c7b29"
      },
      "execution_count": null,
      "outputs": [
        {
          "output_type": "execute_result",
          "data": {
            "text/plain": [
              "   ID  Status  Age  Campus  Gender  Compa  Leaves  Ratings  Promotion  \\\n",
              "0   1       1   23       1       1  0.686      17      3.0          1   \n",
              "1   2       1   25       1       1  0.733      18      4.0          0   \n",
              "2   3       1   24       0       1  0.389       4      4.5          1   \n",
              "3   4       1   26       0       1  0.622      16      3.0          1   \n",
              "4   5       1   27       1       1  0.857      25      3.0          1   \n",
              "\n",
              "   Potential_4.0  Potential_5.0  Potential_3.5  Potential_3.0  Potential_4.5  \\\n",
              "0              1              0              0              0              0   \n",
              "1              0              1              0              0              0   \n",
              "2              0              1              0              0              0   \n",
              "3              1              0              0              0              0   \n",
              "4              0              0              1              0              0   \n",
              "\n",
              "   Potential_2.5  Performance_4.0  Performance_4.5  Performance_3.5  \\\n",
              "0              0                1                0                0   \n",
              "1              0                0                1                0   \n",
              "2              0                0                1                0   \n",
              "3              0                1                0                0   \n",
              "4              0                0                0                1   \n",
              "\n",
              "   Performance_3.0  Performance_5.0  Performance_2.5  \n",
              "0                0                0                0  \n",
              "1                0                0                0  \n",
              "2                0                0                0  \n",
              "3                0                0                0  \n",
              "4                0                0                0  "
            ],
            "text/html": [
              "\n",
              "  <div id=\"df-e9b1278e-9166-4daf-9d84-15b2faa284e4\">\n",
              "    <div class=\"colab-df-container\">\n",
              "      <div>\n",
              "<style scoped>\n",
              "    .dataframe tbody tr th:only-of-type {\n",
              "        vertical-align: middle;\n",
              "    }\n",
              "\n",
              "    .dataframe tbody tr th {\n",
              "        vertical-align: top;\n",
              "    }\n",
              "\n",
              "    .dataframe thead th {\n",
              "        text-align: right;\n",
              "    }\n",
              "</style>\n",
              "<table border=\"1\" class=\"dataframe\">\n",
              "  <thead>\n",
              "    <tr style=\"text-align: right;\">\n",
              "      <th></th>\n",
              "      <th>ID</th>\n",
              "      <th>Status</th>\n",
              "      <th>Age</th>\n",
              "      <th>Campus</th>\n",
              "      <th>Gender</th>\n",
              "      <th>Compa</th>\n",
              "      <th>Leaves</th>\n",
              "      <th>Ratings</th>\n",
              "      <th>Promotion</th>\n",
              "      <th>Potential_4.0</th>\n",
              "      <th>Potential_5.0</th>\n",
              "      <th>Potential_3.5</th>\n",
              "      <th>Potential_3.0</th>\n",
              "      <th>Potential_4.5</th>\n",
              "      <th>Potential_2.5</th>\n",
              "      <th>Performance_4.0</th>\n",
              "      <th>Performance_4.5</th>\n",
              "      <th>Performance_3.5</th>\n",
              "      <th>Performance_3.0</th>\n",
              "      <th>Performance_5.0</th>\n",
              "      <th>Performance_2.5</th>\n",
              "    </tr>\n",
              "  </thead>\n",
              "  <tbody>\n",
              "    <tr>\n",
              "      <th>0</th>\n",
              "      <td>1</td>\n",
              "      <td>1</td>\n",
              "      <td>23</td>\n",
              "      <td>1</td>\n",
              "      <td>1</td>\n",
              "      <td>0.686</td>\n",
              "      <td>17</td>\n",
              "      <td>3.0</td>\n",
              "      <td>1</td>\n",
              "      <td>1</td>\n",
              "      <td>0</td>\n",
              "      <td>0</td>\n",
              "      <td>0</td>\n",
              "      <td>0</td>\n",
              "      <td>0</td>\n",
              "      <td>1</td>\n",
              "      <td>0</td>\n",
              "      <td>0</td>\n",
              "      <td>0</td>\n",
              "      <td>0</td>\n",
              "      <td>0</td>\n",
              "    </tr>\n",
              "    <tr>\n",
              "      <th>1</th>\n",
              "      <td>2</td>\n",
              "      <td>1</td>\n",
              "      <td>25</td>\n",
              "      <td>1</td>\n",
              "      <td>1</td>\n",
              "      <td>0.733</td>\n",
              "      <td>18</td>\n",
              "      <td>4.0</td>\n",
              "      <td>0</td>\n",
              "      <td>0</td>\n",
              "      <td>1</td>\n",
              "      <td>0</td>\n",
              "      <td>0</td>\n",
              "      <td>0</td>\n",
              "      <td>0</td>\n",
              "      <td>0</td>\n",
              "      <td>1</td>\n",
              "      <td>0</td>\n",
              "      <td>0</td>\n",
              "      <td>0</td>\n",
              "      <td>0</td>\n",
              "    </tr>\n",
              "    <tr>\n",
              "      <th>2</th>\n",
              "      <td>3</td>\n",
              "      <td>1</td>\n",
              "      <td>24</td>\n",
              "      <td>0</td>\n",
              "      <td>1</td>\n",
              "      <td>0.389</td>\n",
              "      <td>4</td>\n",
              "      <td>4.5</td>\n",
              "      <td>1</td>\n",
              "      <td>0</td>\n",
              "      <td>1</td>\n",
              "      <td>0</td>\n",
              "      <td>0</td>\n",
              "      <td>0</td>\n",
              "      <td>0</td>\n",
              "      <td>0</td>\n",
              "      <td>1</td>\n",
              "      <td>0</td>\n",
              "      <td>0</td>\n",
              "      <td>0</td>\n",
              "      <td>0</td>\n",
              "    </tr>\n",
              "    <tr>\n",
              "      <th>3</th>\n",
              "      <td>4</td>\n",
              "      <td>1</td>\n",
              "      <td>26</td>\n",
              "      <td>0</td>\n",
              "      <td>1</td>\n",
              "      <td>0.622</td>\n",
              "      <td>16</td>\n",
              "      <td>3.0</td>\n",
              "      <td>1</td>\n",
              "      <td>1</td>\n",
              "      <td>0</td>\n",
              "      <td>0</td>\n",
              "      <td>0</td>\n",
              "      <td>0</td>\n",
              "      <td>0</td>\n",
              "      <td>1</td>\n",
              "      <td>0</td>\n",
              "      <td>0</td>\n",
              "      <td>0</td>\n",
              "      <td>0</td>\n",
              "      <td>0</td>\n",
              "    </tr>\n",
              "    <tr>\n",
              "      <th>4</th>\n",
              "      <td>5</td>\n",
              "      <td>1</td>\n",
              "      <td>27</td>\n",
              "      <td>1</td>\n",
              "      <td>1</td>\n",
              "      <td>0.857</td>\n",
              "      <td>25</td>\n",
              "      <td>3.0</td>\n",
              "      <td>1</td>\n",
              "      <td>0</td>\n",
              "      <td>0</td>\n",
              "      <td>1</td>\n",
              "      <td>0</td>\n",
              "      <td>0</td>\n",
              "      <td>0</td>\n",
              "      <td>0</td>\n",
              "      <td>0</td>\n",
              "      <td>1</td>\n",
              "      <td>0</td>\n",
              "      <td>0</td>\n",
              "      <td>0</td>\n",
              "    </tr>\n",
              "  </tbody>\n",
              "</table>\n",
              "</div>\n",
              "      <button class=\"colab-df-convert\" onclick=\"convertToInteractive('df-e9b1278e-9166-4daf-9d84-15b2faa284e4')\"\n",
              "              title=\"Convert this dataframe to an interactive table.\"\n",
              "              style=\"display:none;\">\n",
              "        \n",
              "  <svg xmlns=\"http://www.w3.org/2000/svg\" height=\"24px\"viewBox=\"0 0 24 24\"\n",
              "       width=\"24px\">\n",
              "    <path d=\"M0 0h24v24H0V0z\" fill=\"none\"/>\n",
              "    <path d=\"M18.56 5.44l.94 2.06.94-2.06 2.06-.94-2.06-.94-.94-2.06-.94 2.06-2.06.94zm-11 1L8.5 8.5l.94-2.06 2.06-.94-2.06-.94L8.5 2.5l-.94 2.06-2.06.94zm10 10l.94 2.06.94-2.06 2.06-.94-2.06-.94-.94-2.06-.94 2.06-2.06.94z\"/><path d=\"M17.41 7.96l-1.37-1.37c-.4-.4-.92-.59-1.43-.59-.52 0-1.04.2-1.43.59L10.3 9.45l-7.72 7.72c-.78.78-.78 2.05 0 2.83L4 21.41c.39.39.9.59 1.41.59.51 0 1.02-.2 1.41-.59l7.78-7.78 2.81-2.81c.8-.78.8-2.07 0-2.86zM5.41 20L4 18.59l7.72-7.72 1.47 1.35L5.41 20z\"/>\n",
              "  </svg>\n",
              "      </button>\n",
              "      \n",
              "  <style>\n",
              "    .colab-df-container {\n",
              "      display:flex;\n",
              "      flex-wrap:wrap;\n",
              "      gap: 12px;\n",
              "    }\n",
              "\n",
              "    .colab-df-convert {\n",
              "      background-color: #E8F0FE;\n",
              "      border: none;\n",
              "      border-radius: 50%;\n",
              "      cursor: pointer;\n",
              "      display: none;\n",
              "      fill: #1967D2;\n",
              "      height: 32px;\n",
              "      padding: 0 0 0 0;\n",
              "      width: 32px;\n",
              "    }\n",
              "\n",
              "    .colab-df-convert:hover {\n",
              "      background-color: #E2EBFA;\n",
              "      box-shadow: 0px 1px 2px rgba(60, 64, 67, 0.3), 0px 1px 3px 1px rgba(60, 64, 67, 0.15);\n",
              "      fill: #174EA6;\n",
              "    }\n",
              "\n",
              "    [theme=dark] .colab-df-convert {\n",
              "      background-color: #3B4455;\n",
              "      fill: #D2E3FC;\n",
              "    }\n",
              "\n",
              "    [theme=dark] .colab-df-convert:hover {\n",
              "      background-color: #434B5C;\n",
              "      box-shadow: 0px 1px 3px 1px rgba(0, 0, 0, 0.15);\n",
              "      filter: drop-shadow(0px 1px 2px rgba(0, 0, 0, 0.3));\n",
              "      fill: #FFFFFF;\n",
              "    }\n",
              "  </style>\n",
              "\n",
              "      <script>\n",
              "        const buttonEl =\n",
              "          document.querySelector('#df-e9b1278e-9166-4daf-9d84-15b2faa284e4 button.colab-df-convert');\n",
              "        buttonEl.style.display =\n",
              "          google.colab.kernel.accessAllowed ? 'block' : 'none';\n",
              "\n",
              "        async function convertToInteractive(key) {\n",
              "          const element = document.querySelector('#df-e9b1278e-9166-4daf-9d84-15b2faa284e4');\n",
              "          const dataTable =\n",
              "            await google.colab.kernel.invokeFunction('convertToInteractive',\n",
              "                                                     [key], {});\n",
              "          if (!dataTable) return;\n",
              "\n",
              "          const docLinkHtml = 'Like what you see? Visit the ' +\n",
              "            '<a target=\"_blank\" href=https://colab.research.google.com/notebooks/data_table.ipynb>data table notebook</a>'\n",
              "            + ' to learn more about interactive tables.';\n",
              "          element.innerHTML = '';\n",
              "          dataTable['output_type'] = 'display_data';\n",
              "          await google.colab.output.renderOutput(dataTable, element);\n",
              "          const docLink = document.createElement('div');\n",
              "          docLink.innerHTML = docLinkHtml;\n",
              "          element.appendChild(docLink);\n",
              "        }\n",
              "      </script>\n",
              "    </div>\n",
              "  </div>\n",
              "  "
            ]
          },
          "metadata": {},
          "execution_count": 30
        }
      ]
    },
    {
      "cell_type": "code",
      "source": [
        "#Train data\n",
        "X = df_train.drop(columns=[\"Status\",\"ID\"],axis=1)\n",
        "print(X.shape)\n",
        "y = df_train[\"Status\"]\n",
        "print(y.shape)"
      ],
      "metadata": {
        "id": "Z20rV-XPc5aS",
        "colab": {
          "base_uri": "https://localhost:8080/"
        },
        "outputId": "13863295-35d3-4c59-8d8e-4fcd63e35bd2"
      },
      "execution_count": null,
      "outputs": [
        {
          "output_type": "stream",
          "name": "stdout",
          "text": [
            "(197, 19)\n",
            "(197,)\n"
          ]
        }
      ]
    },
    {
      "cell_type": "code",
      "source": [
        "from sklearn.model_selection import train_test_split"
      ],
      "metadata": {
        "id": "CSmSrtyYpI9q"
      },
      "execution_count": null,
      "outputs": []
    },
    {
      "cell_type": "code",
      "source": [
        "X_train, X_test, y_train, y_test= train_test_split(X,y, test_size= 0.2, random_state=100, stratify=y)"
      ],
      "metadata": {
        "id": "WtsxYcaIlUCt"
      },
      "execution_count": null,
      "outputs": []
    },
    {
      "cell_type": "code",
      "source": [
        "from sklearn.linear_model import LogisticRegression\n",
        "from sklearn.ensemble import RandomForestClassifier\n",
        "from xgboost import XGBClassifier\n",
        "from sklearn.neighbors import KNeighborsClassifier\n",
        "from sklearn.metrics import classification_report\n",
        "from sklearn.metrics import confusion_matrix\n",
        "from sklearn.metrics import roc_auc_score\n",
        "from sklearn.metrics import accuracy_score"
      ],
      "metadata": {
        "id": "80tIBVC5lZ19"
      },
      "execution_count": null,
      "outputs": []
    },
    {
      "cell_type": "code",
      "source": [
        "models = {'lr':LogisticRegression(max_iter=600),\n",
        "          'rf':RandomForestClassifier(),\n",
        "          'knn':KNeighborsClassifier(n_neighbors=5),\n",
        "          'xgb':XGBClassifier(learning_rate = 0.005, n_estimators=50, max_depth=2)}"
      ],
      "metadata": {
        "id": "2jdZlY2r-XIF"
      },
      "execution_count": null,
      "outputs": []
    },
    {
      "cell_type": "code",
      "source": [
        "print(y_train.value_counts(normalize=True))\n",
        "print(y_test.value_counts(normalize=True))"
      ],
      "metadata": {
        "colab": {
          "base_uri": "https://localhost:8080/"
        },
        "id": "rJfzhc9iIxHn",
        "outputId": "76589d28-274a-4733-f73c-c81a79bc7c05"
      },
      "execution_count": null,
      "outputs": [
        {
          "output_type": "stream",
          "name": "stdout",
          "text": [
            "0    0.834395\n",
            "1    0.165605\n",
            "Name: Status, dtype: float64\n",
            "0    0.825\n",
            "1    0.175\n",
            "Name: Status, dtype: float64\n"
          ]
        }
      ]
    },
    {
      "cell_type": "code",
      "source": [
        "for model_name, model in models.items():\n",
        "    print(f'------------{model_name}---------')\n",
        "    model.fit(X_train, y_train)\n",
        "    predictions = model.predict(X_test)\n",
        "    probabilities = model.predict_proba(X_test)[:, 1]\n",
        "    print(f'Accuracy : {accuracy_score(y_test, predictions)}')\n",
        "    print(classification_report(y_test, predictions))\n",
        "    print(confusion_matrix(y_test, predictions))\n",
        "    print(f'ROC AUC : {roc_auc_score(y_test, probabilities)}')\n",
        "   # with open(model_name+'.pkl','wb') as obj:\n",
        "     # joblib.dump(model, obj)"
      ],
      "metadata": {
        "colab": {
          "base_uri": "https://localhost:8080/"
        },
        "id": "093YGULLGL5M",
        "outputId": "927c1768-ed4c-487f-93d9-0f6e465e6826"
      },
      "execution_count": null,
      "outputs": [
        {
          "output_type": "stream",
          "name": "stdout",
          "text": [
            "------------lr---------\n",
            "Accuracy : 0.85\n",
            "              precision    recall  f1-score   support\n",
            "\n",
            "           0       0.85      1.00      0.92        33\n",
            "           1       1.00      0.14      0.25         7\n",
            "\n",
            "    accuracy                           0.85        40\n",
            "   macro avg       0.92      0.57      0.58        40\n",
            "weighted avg       0.87      0.85      0.80        40\n",
            "\n",
            "[[33  0]\n",
            " [ 6  1]]\n",
            "ROC AUC : 0.6103896103896104\n",
            "------------rf---------\n",
            "Accuracy : 0.875\n",
            "              precision    recall  f1-score   support\n",
            "\n",
            "           0       0.87      1.00      0.93        33\n",
            "           1       1.00      0.29      0.44         7\n",
            "\n",
            "    accuracy                           0.88        40\n",
            "   macro avg       0.93      0.64      0.69        40\n",
            "weighted avg       0.89      0.88      0.84        40\n",
            "\n",
            "[[33  0]\n",
            " [ 5  2]]\n",
            "ROC AUC : 0.6558441558441558\n",
            "------------knn---------\n",
            "Accuracy : 0.775\n",
            "              precision    recall  f1-score   support\n",
            "\n",
            "           0       0.82      0.94      0.87        33\n",
            "           1       0.00      0.00      0.00         7\n",
            "\n",
            "    accuracy                           0.78        40\n",
            "   macro avg       0.41      0.47      0.44        40\n",
            "weighted avg       0.67      0.78      0.72        40\n",
            "\n",
            "[[31  2]\n",
            " [ 7  0]]\n",
            "ROC AUC : 0.4264069264069264\n",
            "------------xgb---------\n",
            "Accuracy : 0.875\n",
            "              precision    recall  f1-score   support\n",
            "\n",
            "           0       0.87      1.00      0.93        33\n",
            "           1       1.00      0.29      0.44         7\n",
            "\n",
            "    accuracy                           0.88        40\n",
            "   macro avg       0.93      0.64      0.69        40\n",
            "weighted avg       0.89      0.88      0.84        40\n",
            "\n",
            "[[33  0]\n",
            " [ 5  2]]\n",
            "ROC AUC : 0.7900432900432901\n"
          ]
        }
      ]
    },
    {
      "cell_type": "code",
      "source": [
        "ls"
      ],
      "metadata": {
        "colab": {
          "base_uri": "https://localhost:8080/"
        },
        "id": "HlqRfwc4L9Ok",
        "outputId": "312c6bf7-fa1d-400b-db5c-0732e1d06f0b"
      },
      "execution_count": null,
      "outputs": [
        {
          "output_type": "stream",
          "name": "stdout",
          "text": [
            "ce_ohe.pkl  EWS_197.csv  Inference_70.csv  knn.pkl  lr.pkl  rf.pkl  xgb.pkl\n"
          ]
        }
      ]
    },
    {
      "cell_type": "code",
      "source": [
        "#Visualize the correlation\n",
        "plt.figure(figsize=(11,11))  #14in by 14in\n",
        "sns.heatmap(EWS_data.corr(), annot=True, fmt='.0%')"
      ],
      "metadata": {
        "colab": {
          "base_uri": "https://localhost:8080/",
          "height": 668
        },
        "id": "je2azIydqrGQ",
        "outputId": "b20a9731-ac53-4147-9735-3601b48f1f8a"
      },
      "execution_count": null,
      "outputs": [
        {
          "output_type": "execute_result",
          "data": {
            "text/plain": [
              "<matplotlib.axes._subplots.AxesSubplot at 0x7fe1e0142f10>"
            ]
          },
          "metadata": {},
          "execution_count": 46
        },
        {
          "output_type": "display_data",
          "data": {
            "text/plain": [
              "<Figure size 792x792 with 2 Axes>"
            ],
            "image/png": "[encoded data removed]"
          },
          "metadata": {
            "needs_background": "light"
          }
        }
      ]
    },
    {
      "cell_type": "code",
      "source": [
        "def plot_feature_importance(importance,names,model_type):\n",
        "\n",
        "  #Create arrays from feature importance and feature names\n",
        "  feature_importance = np.array(importance)\n",
        "  feature_names = np.array(names)\n",
        "\n",
        "  #Create a DataFrame using a Dictionary\n",
        "  data={'feature_names':feature_names,'feature_importance':feature_importance}\n",
        "  fi_df = pd.DataFrame(data)\n",
        "\n",
        "  #Sort the DataFrame in order decreasing feature importance\n",
        "  fi_df.sort_values(by=['feature_importance'], ascending=False,inplace=True)\n",
        "\n",
        "  #Define size of bar plot\n",
        "  plt.figure(figsize=(10,8))\n",
        "  #Plot Searborn bar chart\n",
        "  sns.barplot(x=fi_df['feature_importance'], y=fi_df['feature_names'])\n",
        "  #Add chart labels\n",
        "  plt.title(model_type + 'FEATURE IMPORTANCE')\n",
        "  plt.xlabel('FEATURE IMPORTANCE')\n",
        "  plt.ylabel('FEATURE NAMES')"
      ],
      "metadata": {
        "id": "CM1AGGARsCSw"
      },
      "execution_count": null,
      "outputs": []
    },
    {
      "cell_type": "code",
      "source": [
        "plot_feature_importance(models['rf'].feature_importances_,X_train.columns,'Random Forest')"
      ],
      "metadata": {
        "colab": {
          "base_uri": "https://localhost:8080/",
          "height": 513
        },
        "id": "YKRpUwpPNxiS",
        "outputId": "eac18d47-14c2-41f2-8cbc-fc4a786d6e29"
      },
      "execution_count": null,
      "outputs": [
        {
          "output_type": "display_data",
          "data": {
            "text/plain": [
              "<Figure size 720x576 with 1 Axes>"
            ],
            "image/png": "[encoded data removed]"
          },
          "metadata": {
            "needs_background": "light"
          }
        }
      ]
    },
    {
      "cell_type": "code",
      "source": [
        "plot_feature_importance(models['xgb'].feature_importances_,X_train.columns,'Xgboost')"
      ],
      "metadata": {
        "colab": {
          "base_uri": "https://localhost:8080/",
          "height": 513
        },
        "id": "vwR39vP1sHHC",
        "outputId": "c7445ac2-a654-4e4a-e64d-7aaec8675add"
      },
      "execution_count": null,
      "outputs": [
        {
          "output_type": "display_data",
          "data": {
            "text/plain": [
              "<Figure size 720x576 with 1 Axes>"
            ],
            "image/png": "[encoded data removed]"
          },
          "metadata": {
            "needs_background": "light"
          }
        }
      ]
    },
    {
      "cell_type": "code",
      "source": [
        "pip install shap "
      ],
      "metadata": {
        "colab": {
          "base_uri": "https://localhost:8080/"
        },
        "id": "GopA61vRsLDl",
        "outputId": "8d8736bb-8490-4c2e-c6b7-6b4c24f2bae7"
      },
      "execution_count": null,
      "outputs": [
        {
          "output_type": "stream",
          "name": "stdout",
          "text": [
            "Collecting shap\n",
            "  Downloading shap-0.40.0-cp37-cp37m-manylinux2010_x86_64.whl (564 kB)\n",
            "\u001b[?25l\r\u001b[K     |▋                               | 10 kB 22.7 MB/s eta 0:00:01\r\u001b[K     |█▏                              | 20 kB 26.6 MB/s eta 0:00:01\r\u001b[K     |█▊                              | 30 kB 24.1 MB/s eta 0:00:01\r\u001b[K     |██▎                             | 40 kB 17.7 MB/s eta 0:00:01\r\u001b[K     |███                             | 51 kB 8.1 MB/s eta 0:00:01\r\u001b[K     |███▌                            | 61 kB 9.5 MB/s eta 0:00:01\r\u001b[K     |████                            | 71 kB 9.2 MB/s eta 0:00:01\r\u001b[K     |████▋                           | 81 kB 9.3 MB/s eta 0:00:01\r\u001b[K     |█████▏                          | 92 kB 10.2 MB/s eta 0:00:01\r\u001b[K     |█████▉                          | 102 kB 8.6 MB/s eta 0:00:01\r\u001b[K     |██████▍                         | 112 kB 8.6 MB/s eta 0:00:01\r\u001b[K     |███████                         | 122 kB 8.6 MB/s eta 0:00:01\r\u001b[K     |███████▌                        | 133 kB 8.6 MB/s eta 0:00:01\r\u001b[K     |████████▏                       | 143 kB 8.6 MB/s eta 0:00:01\r\u001b[K     |████████▊                       | 153 kB 8.6 MB/s eta 0:00:01\r\u001b[K     |█████████▎                      | 163 kB 8.6 MB/s eta 0:00:01\r\u001b[K     |█████████▉                      | 174 kB 8.6 MB/s eta 0:00:01\r\u001b[K     |██████████▍                     | 184 kB 8.6 MB/s eta 0:00:01\r\u001b[K     |███████████                     | 194 kB 8.6 MB/s eta 0:00:01\r\u001b[K     |███████████▋                    | 204 kB 8.6 MB/s eta 0:00:01\r\u001b[K     |████████████▏                   | 215 kB 8.6 MB/s eta 0:00:01\r\u001b[K     |████████████▊                   | 225 kB 8.6 MB/s eta 0:00:01\r\u001b[K     |█████████████▍                  | 235 kB 8.6 MB/s eta 0:00:01\r\u001b[K     |██████████████                  | 245 kB 8.6 MB/s eta 0:00:01\r\u001b[K     |██████████████▌                 | 256 kB 8.6 MB/s eta 0:00:01\r\u001b[K     |███████████████                 | 266 kB 8.6 MB/s eta 0:00:01\r\u001b[K     |███████████████▋                | 276 kB 8.6 MB/s eta 0:00:01\r\u001b[K     |████████████████▎               | 286 kB 8.6 MB/s eta 0:00:01\r\u001b[K     |████████████████▉               | 296 kB 8.6 MB/s eta 0:00:01\r\u001b[K     |█████████████████▍              | 307 kB 8.6 MB/s eta 0:00:01\r\u001b[K     |██████████████████              | 317 kB 8.6 MB/s eta 0:00:01\r\u001b[K     |██████████████████▋             | 327 kB 8.6 MB/s eta 0:00:01\r\u001b[K     |███████████████████▏            | 337 kB 8.6 MB/s eta 0:00:01\r\u001b[K     |███████████████████▊            | 348 kB 8.6 MB/s eta 0:00:01\r\u001b[K     |████████████████████▎           | 358 kB 8.6 MB/s eta 0:00:01\r\u001b[K     |████████████████████▉           | 368 kB 8.6 MB/s eta 0:00:01\r\u001b[K     |█████████████████████▌          | 378 kB 8.6 MB/s eta 0:00:01\r\u001b[K     |██████████████████████          | 389 kB 8.6 MB/s eta 0:00:01\r\u001b[K     |██████████████████████▋         | 399 kB 8.6 MB/s eta 0:00:01\r\u001b[K     |███████████████████████▏        | 409 kB 8.6 MB/s eta 0:00:01\r\u001b[K     |███████████████████████▉        | 419 kB 8.6 MB/s eta 0:00:01\r\u001b[K     |████████████████████████▍       | 430 kB 8.6 MB/s eta 0:00:01\r\u001b[K     |█████████████████████████       | 440 kB 8.6 MB/s eta 0:00:01\r\u001b[K     |█████████████████████████▌      | 450 kB 8.6 MB/s eta 0:00:01\r\u001b[K     |██████████████████████████      | 460 kB 8.6 MB/s eta 0:00:01\r\u001b[K     |██████████████████████████▊     | 471 kB 8.6 MB/s eta 0:00:01\r\u001b[K     |███████████████████████████▎    | 481 kB 8.6 MB/s eta 0:00:01\r\u001b[K     |███████████████████████████▉    | 491 kB 8.6 MB/s eta 0:00:01\r\u001b[K     |████████████████████████████▍   | 501 kB 8.6 MB/s eta 0:00:01\r\u001b[K     |█████████████████████████████   | 512 kB 8.6 MB/s eta 0:00:01\r\u001b[K     |█████████████████████████████▋  | 522 kB 8.6 MB/s eta 0:00:01\r\u001b[K     |██████████████████████████████▏ | 532 kB 8.6 MB/s eta 0:00:01\r\u001b[K     |██████████████████████████████▊ | 542 kB 8.6 MB/s eta 0:00:01\r\u001b[K     |███████████████████████████████▎| 552 kB 8.6 MB/s eta 0:00:01\r\u001b[K     |████████████████████████████████| 563 kB 8.6 MB/s eta 0:00:01\r\u001b[K     |████████████████████████████████| 564 kB 8.6 MB/s \n",
            "\u001b[?25hRequirement already satisfied: numba in /usr/local/lib/python3.7/dist-packages (from shap) (0.51.2)\n",
            "Requirement already satisfied: cloudpickle in /usr/local/lib/python3.7/dist-packages (from shap) (1.3.0)\n",
            "Requirement already satisfied: scikit-learn in /usr/local/lib/python3.7/dist-packages (from shap) (1.0.2)\n",
            "Requirement already satisfied: scipy in /usr/local/lib/python3.7/dist-packages (from shap) (1.4.1)\n",
            "Collecting slicer==0.0.7\n",
            "  Downloading slicer-0.0.7-py3-none-any.whl (14 kB)\n",
            "Requirement already satisfied: pandas in /usr/local/lib/python3.7/dist-packages (from shap) (1.3.5)\n",
            "Requirement already satisfied: packaging>20.9 in /usr/local/lib/python3.7/dist-packages (from shap) (21.3)\n",
            "Requirement already satisfied: tqdm>4.25.0 in /usr/local/lib/python3.7/dist-packages (from shap) (4.64.0)\n",
            "Requirement already satisfied: numpy in /usr/local/lib/python3.7/dist-packages (from shap) (1.21.6)\n",
            "Requirement already satisfied: pyparsing!=3.0.5,>=2.0.2 in /usr/local/lib/python3.7/dist-packages (from packaging>20.9->shap) (3.0.9)\n",
            "Requirement already satisfied: setuptools in /usr/local/lib/python3.7/dist-packages (from numba->shap) (57.4.0)\n",
            "Requirement already satisfied: llvmlite<0.35,>=0.34.0.dev0 in /usr/local/lib/python3.7/dist-packages (from numba->shap) (0.34.0)\n",
            "Requirement already satisfied: python-dateutil>=2.7.3 in /usr/local/lib/python3.7/dist-packages (from pandas->shap) (2.8.2)\n",
            "Requirement already satisfied: pytz>=2017.3 in /usr/local/lib/python3.7/dist-packages (from pandas->shap) (2022.1)\n",
            "Requirement already satisfied: six>=1.5 in /usr/local/lib/python3.7/dist-packages (from python-dateutil>=2.7.3->pandas->shap) (1.15.0)\n",
            "Requirement already satisfied: joblib>=0.11 in /usr/local/lib/python3.7/dist-packages (from scikit-learn->shap) (1.1.0)\n",
            "Requirement already satisfied: threadpoolctl>=2.0.0 in /usr/local/lib/python3.7/dist-packages (from scikit-learn->shap) (3.1.0)\n",
            "Installing collected packages: slicer, shap\n",
            "Successfully installed shap-0.40.0 slicer-0.0.7\n"
          ]
        }
      ]
    },
    {
      "cell_type": "code",
      "source": [
        "import shap "
      ],
      "metadata": {
        "id": "eEGQSggAsil5"
      },
      "execution_count": null,
      "outputs": []
    },
    {
      "cell_type": "code",
      "source": [
        "explainer = shap.TreeExplainer(models['xgb'])\n",
        "shap_values = explainer.shap_values(X_train)"
      ],
      "metadata": {
        "id": "yO0ihnfssnB5"
      },
      "execution_count": null,
      "outputs": []
    },
    {
      "cell_type": "code",
      "source": [
        "shap.summary_plot(shap_values, X_train, plot_type=\"bar\")"
      ],
      "metadata": {
        "colab": {
          "base_uri": "https://localhost:8080/",
          "height": 560
        },
        "id": "FeNDbKKHsphJ",
        "outputId": "bd888306-5035-45eb-c60b-47382ce8aa31"
      },
      "execution_count": null,
      "outputs": [
        {
          "output_type": "display_data",
          "data": {
            "text/plain": [
              "<Figure size 576x655.2 with 1 Axes>"
            ],
            "image/png": "[encoded data removed]"
          },
          "metadata": {
            "needs_background": "light"
          }
        }
      ]
    },
    {
      "cell_type": "code",
      "source": [
        "shap.summary_plot(shap_values, X_train)"
      ],
      "metadata": {
        "colab": {
          "base_uri": "https://localhost:8080/",
          "height": 564
        },
        "id": "nhBtp-YEOHDz",
        "outputId": "155fc065-da43-4111-8a9f-edcdba7756ff"
      },
      "execution_count": null,
      "outputs": [
        {
          "output_type": "display_data",
          "data": {
            "text/plain": [
              "<Figure size 576x655.2 with 2 Axes>"
            ],
            "image/png": "[encoded data removed]"
          },
          "metadata": {
            "needs_background": "light"
          }
        }
      ]
    },
    {
      "cell_type": "code",
      "source": [
        "!ls"
      ],
      "metadata": {
        "colab": {
          "base_uri": "https://localhost:8080/"
        },
        "id": "KyzrgxFCRgqm",
        "outputId": "8aa17b07-9014-4711-9290-1004af0f0ecc"
      },
      "execution_count": null,
      "outputs": [
        {
          "output_type": "stream",
          "name": "stdout",
          "text": [
            "ce_ohe.pkl  EWS_197.csv  Inference_70.csv\n"
          ]
        }
      ]
    },
    {
      "cell_type": "code",
      "source": [
        "# Inference\n",
        "\n",
        "infer_data = pd.read_csv('Inference_70.csv')\n",
        "ohe_features= [\"Potential\", \"Performance\"]\n",
        "infer_data[ohe_features] = infer_data[ohe_features].astype('str')"
      ],
      "metadata": {
        "id": "E3LMBWBrOO8B"
      },
      "execution_count": null,
      "outputs": []
    },
    {
      "cell_type": "code",
      "source": [
        "infer_data[ohe_features].dtypes"
      ],
      "metadata": {
        "colab": {
          "base_uri": "https://localhost:8080/"
        },
        "id": "BjaVRfo2Ti64",
        "outputId": "518edda9-2d40-472f-8f04-368fee37c1df"
      },
      "execution_count": null,
      "outputs": [
        {
          "output_type": "execute_result",
          "data": {
            "text/plain": [
              "Potential      object\n",
              "Performance    object\n",
              "dtype: object"
            ]
          },
          "metadata": {},
          "execution_count": 12
        }
      ]
    },
    {
      "cell_type": "code",
      "source": [
        "infer_data.isna().sum()"
      ],
      "metadata": {
        "colab": {
          "base_uri": "https://localhost:8080/"
        },
        "id": "017O1JowTPJV",
        "outputId": "148b971b-13f9-4074-f853-5aad1f75bdb1"
      },
      "execution_count": null,
      "outputs": [
        {
          "output_type": "execute_result",
          "data": {
            "text/plain": [
              "ID             0\n",
              "Age            0\n",
              "Campus         0\n",
              "Gender         0\n",
              "Compa          0\n",
              "Leaves         0\n",
              "Ratings        0\n",
              "Promotion      0\n",
              "Potential      0\n",
              "Performance    0\n",
              "dtype: int64"
            ]
          },
          "metadata": {},
          "execution_count": 14
        }
      ]
    },
    {
      "cell_type": "code",
      "source": [
        "# One hot \n",
        "df_infer = OneHot(infer_data,feature_list = ohe_features,mode= \"infer\")"
      ],
      "metadata": {
        "id": "N_gfGY8VRoPj"
      },
      "execution_count": null,
      "outputs": []
    },
    {
      "cell_type": "code",
      "source": [
        "df_infer['Gender'] = df_infer['Gender'].map({'M':1,'F':0})"
      ],
      "metadata": {
        "id": "3mhm-g71SGRo"
      },
      "execution_count": null,
      "outputs": []
    },
    {
      "cell_type": "code",
      "source": [
        "infer_data.head()"
      ],
      "metadata": {
        "colab": {
          "base_uri": "https://localhost:8080/",
          "height": 206
        },
        "id": "M-BxuX4MXggF",
        "outputId": "e99c4c80-8b5d-4539-90ff-14025b8f1565"
      },
      "execution_count": null,
      "outputs": [
        {
          "output_type": "execute_result",
          "data": {
            "text/plain": [
              "   ID  Age  Campus Gender  Compa  Leaves   Ratings  Promotion Potential  \\\n",
              "0   4   28       0      M  0.783      21  4.000000          2       3.5   \n",
              "1   6   35       0      M  0.976      27  3.083333          3       3.0   \n",
              "2   7   27       0      M  0.720      15  3.333333          1       4.0   \n",
              "3   8   26       0      F  1.000      37  2.500000          1       2.5   \n",
              "4   9   28       0      M  0.967      29  4.000000          1       4.0   \n",
              "\n",
              "  Performance  \n",
              "0         4.0  \n",
              "1         3.0  \n",
              "2         4.0  \n",
              "3         3.0  \n",
              "4         3.5  "
            ],
            "text/html": [
              "\n",
              "  <div id=\"df-12ca99c3-aff8-49af-bca1-f126e944b333\">\n",
              "    <div class=\"colab-df-container\">\n",
              "      <div>\n",
              "<style scoped>\n",
              "    .dataframe tbody tr th:only-of-type {\n",
              "        vertical-align: middle;\n",
              "    }\n",
              "\n",
              "    .dataframe tbody tr th {\n",
              "        vertical-align: top;\n",
              "    }\n",
              "\n",
              "    .dataframe thead th {\n",
              "        text-align: right;\n",
              "    }\n",
              "</style>\n",
              "<table border=\"1\" class=\"dataframe\">\n",
              "  <thead>\n",
              "    <tr style=\"text-align: right;\">\n",
              "      <th></th>\n",
              "      <th>ID</th>\n",
              "      <th>Age</th>\n",
              "      <th>Campus</th>\n",
              "      <th>Gender</th>\n",
              "      <th>Compa</th>\n",
              "      <th>Leaves</th>\n",
              "      <th>Ratings</th>\n",
              "      <th>Promotion</th>\n",
              "      <th>Potential</th>\n",
              "      <th>Performance</th>\n",
              "    </tr>\n",
              "  </thead>\n",
              "  <tbody>\n",
              "    <tr>\n",
              "      <th>0</th>\n",
              "      <td>4</td>\n",
              "      <td>28</td>\n",
              "      <td>0</td>\n",
              "      <td>M</td>\n",
              "      <td>0.783</td>\n",
              "      <td>21</td>\n",
              "      <td>4.000000</td>\n",
              "      <td>2</td>\n",
              "      <td>3.5</td>\n",
              "      <td>4.0</td>\n",
              "    </tr>\n",
              "    <tr>\n",
              "      <th>1</th>\n",
              "      <td>6</td>\n",
              "      <td>35</td>\n",
              "      <td>0</td>\n",
              "      <td>M</td>\n",
              "      <td>0.976</td>\n",
              "      <td>27</td>\n",
              "      <td>3.083333</td>\n",
              "      <td>3</td>\n",
              "      <td>3.0</td>\n",
              "      <td>3.0</td>\n",
              "    </tr>\n",
              "    <tr>\n",
              "      <th>2</th>\n",
              "      <td>7</td>\n",
              "      <td>27</td>\n",
              "      <td>0</td>\n",
              "      <td>M</td>\n",
              "      <td>0.720</td>\n",
              "      <td>15</td>\n",
              "      <td>3.333333</td>\n",
              "      <td>1</td>\n",
              "      <td>4.0</td>\n",
              "      <td>4.0</td>\n",
              "    </tr>\n",
              "    <tr>\n",
              "      <th>3</th>\n",
              "      <td>8</td>\n",
              "      <td>26</td>\n",
              "      <td>0</td>\n",
              "      <td>F</td>\n",
              "      <td>1.000</td>\n",
              "      <td>37</td>\n",
              "      <td>2.500000</td>\n",
              "      <td>1</td>\n",
              "      <td>2.5</td>\n",
              "      <td>3.0</td>\n",
              "    </tr>\n",
              "    <tr>\n",
              "      <th>4</th>\n",
              "      <td>9</td>\n",
              "      <td>28</td>\n",
              "      <td>0</td>\n",
              "      <td>M</td>\n",
              "      <td>0.967</td>\n",
              "      <td>29</td>\n",
              "      <td>4.000000</td>\n",
              "      <td>1</td>\n",
              "      <td>4.0</td>\n",
              "      <td>3.5</td>\n",
              "    </tr>\n",
              "  </tbody>\n",
              "</table>\n",
              "</div>\n",
              "      <button class=\"colab-df-convert\" onclick=\"convertToInteractive('df-12ca99c3-aff8-49af-bca1-f126e944b333')\"\n",
              "              title=\"Convert this dataframe to an interactive table.\"\n",
              "              style=\"display:none;\">\n",
              "        \n",
              "  <svg xmlns=\"http://www.w3.org/2000/svg\" height=\"24px\"viewBox=\"0 0 24 24\"\n",
              "       width=\"24px\">\n",
              "    <path d=\"M0 0h24v24H0V0z\" fill=\"none\"/>\n",
              "    <path d=\"M18.56 5.44l.94 2.06.94-2.06 2.06-.94-2.06-.94-.94-2.06-.94 2.06-2.06.94zm-11 1L8.5 8.5l.94-2.06 2.06-.94-2.06-.94L8.5 2.5l-.94 2.06-2.06.94zm10 10l.94 2.06.94-2.06 2.06-.94-2.06-.94-.94-2.06-.94 2.06-2.06.94z\"/><path d=\"M17.41 7.96l-1.37-1.37c-.4-.4-.92-.59-1.43-.59-.52 0-1.04.2-1.43.59L10.3 9.45l-7.72 7.72c-.78.78-.78 2.05 0 2.83L4 21.41c.39.39.9.59 1.41.59.51 0 1.02-.2 1.41-.59l7.78-7.78 2.81-2.81c.8-.78.8-2.07 0-2.86zM5.41 20L4 18.59l7.72-7.72 1.47 1.35L5.41 20z\"/>\n",
              "  </svg>\n",
              "      </button>\n",
              "      \n",
              "  <style>\n",
              "    .colab-df-container {\n",
              "      display:flex;\n",
              "      flex-wrap:wrap;\n",
              "      gap: 12px;\n",
              "    }\n",
              "\n",
              "    .colab-df-convert {\n",
              "      background-color: #E8F0FE;\n",
              "      border: none;\n",
              "      border-radius: 50%;\n",
              "      cursor: pointer;\n",
              "      display: none;\n",
              "      fill: #1967D2;\n",
              "      height: 32px;\n",
              "      padding: 0 0 0 0;\n",
              "      width: 32px;\n",
              "    }\n",
              "\n",
              "    .colab-df-convert:hover {\n",
              "      background-color: #E2EBFA;\n",
              "      box-shadow: 0px 1px 2px rgba(60, 64, 67, 0.3), 0px 1px 3px 1px rgba(60, 64, 67, 0.15);\n",
              "      fill: #174EA6;\n",
              "    }\n",
              "\n",
              "    [theme=dark] .colab-df-convert {\n",
              "      background-color: #3B4455;\n",
              "      fill: #D2E3FC;\n",
              "    }\n",
              "\n",
              "    [theme=dark] .colab-df-convert:hover {\n",
              "      background-color: #434B5C;\n",
              "      box-shadow: 0px 1px 3px 1px rgba(0, 0, 0, 0.15);\n",
              "      filter: drop-shadow(0px 1px 2px rgba(0, 0, 0, 0.3));\n",
              "      fill: #FFFFFF;\n",
              "    }\n",
              "  </style>\n",
              "\n",
              "      <script>\n",
              "        const buttonEl =\n",
              "          document.querySelector('#df-12ca99c3-aff8-49af-bca1-f126e944b333 button.colab-df-convert');\n",
              "        buttonEl.style.display =\n",
              "          google.colab.kernel.accessAllowed ? 'block' : 'none';\n",
              "\n",
              "        async function convertToInteractive(key) {\n",
              "          const element = document.querySelector('#df-12ca99c3-aff8-49af-bca1-f126e944b333');\n",
              "          const dataTable =\n",
              "            await google.colab.kernel.invokeFunction('convertToInteractive',\n",
              "                                                     [key], {});\n",
              "          if (!dataTable) return;\n",
              "\n",
              "          const docLinkHtml = 'Like what you see? Visit the ' +\n",
              "            '<a target=\"_blank\" href=https://colab.research.google.com/notebooks/data_table.ipynb>data table notebook</a>'\n",
              "            + ' to learn more about interactive tables.';\n",
              "          element.innerHTML = '';\n",
              "          dataTable['output_type'] = 'display_data';\n",
              "          await google.colab.output.renderOutput(dataTable, element);\n",
              "          const docLink = document.createElement('div');\n",
              "          docLink.innerHTML = docLinkHtml;\n",
              "          element.appendChild(docLink);\n",
              "        }\n",
              "      </script>\n",
              "    </div>\n",
              "  </div>\n",
              "  "
            ]
          },
          "metadata": {},
          "execution_count": 23
        }
      ]
    },
    {
      "cell_type": "code",
      "source": [
        "df_infer.head()"
      ],
      "metadata": {
        "colab": {
          "base_uri": "https://localhost:8080/",
          "height": 270
        },
        "id": "jvPAZxdaUsZQ",
        "outputId": "89957a3b-f003-4e17-e69c-8369a2f02f21"
      },
      "execution_count": null,
      "outputs": [
        {
          "output_type": "execute_result",
          "data": {
            "text/plain": [
              "   Age  Campus  Gender  Compa  Leaves   Ratings  Promotion  Potential_4.0  \\\n",
              "0   28       0       1  0.783      21  4.000000          2              0   \n",
              "1   35       0       1  0.976      27  3.083333          3              0   \n",
              "2   27       0       1  0.720      15  3.333333          1              1   \n",
              "3   26       0       0  1.000      37  2.500000          1              0   \n",
              "4   28       0       1  0.967      29  4.000000          1              1   \n",
              "\n",
              "   Potential_5.0  Potential_3.5  Potential_3.0  Potential_4.5  Potential_2.5  \\\n",
              "0              0              1              0              0              0   \n",
              "1              0              0              1              0              0   \n",
              "2              0              0              0              0              0   \n",
              "3              0              0              0              0              1   \n",
              "4              0              0              0              0              0   \n",
              "\n",
              "   Performance_4.0  Performance_4.5  Performance_3.5  Performance_3.0  \\\n",
              "0                1                0                0                0   \n",
              "1                0                0                0                1   \n",
              "2                1                0                0                0   \n",
              "3                0                0                0                1   \n",
              "4                0                0                1                0   \n",
              "\n",
              "   Performance_5.0  Performance_2.5  \n",
              "0                0                0  \n",
              "1                0                0  \n",
              "2                0                0  \n",
              "3                0                0  \n",
              "4                0                0  "
            ],
            "text/html": [
              "\n",
              "  <div id=\"df-127d9e1f-50ca-4f5c-a209-a0f41327b611\">\n",
              "    <div class=\"colab-df-container\">\n",
              "      <div>\n",
              "<style scoped>\n",
              "    .dataframe tbody tr th:only-of-type {\n",
              "        vertical-align: middle;\n",
              "    }\n",
              "\n",
              "    .dataframe tbody tr th {\n",
              "        vertical-align: top;\n",
              "    }\n",
              "\n",
              "    .dataframe thead th {\n",
              "        text-align: right;\n",
              "    }\n",
              "</style>\n",
              "<table border=\"1\" class=\"dataframe\">\n",
              "  <thead>\n",
              "    <tr style=\"text-align: right;\">\n",
              "      <th></th>\n",
              "      <th>Age</th>\n",
              "      <th>Campus</th>\n",
              "      <th>Gender</th>\n",
              "      <th>Compa</th>\n",
              "      <th>Leaves</th>\n",
              "      <th>Ratings</th>\n",
              "      <th>Promotion</th>\n",
              "      <th>Potential_4.0</th>\n",
              "      <th>Potential_5.0</th>\n",
              "      <th>Potential_3.5</th>\n",
              "      <th>Potential_3.0</th>\n",
              "      <th>Potential_4.5</th>\n",
              "      <th>Potential_2.5</th>\n",
              "      <th>Performance_4.0</th>\n",
              "      <th>Performance_4.5</th>\n",
              "      <th>Performance_3.5</th>\n",
              "      <th>Performance_3.0</th>\n",
              "      <th>Performance_5.0</th>\n",
              "      <th>Performance_2.5</th>\n",
              "    </tr>\n",
              "  </thead>\n",
              "  <tbody>\n",
              "    <tr>\n",
              "      <th>0</th>\n",
              "      <td>28</td>\n",
              "      <td>0</td>\n",
              "      <td>1</td>\n",
              "      <td>0.783</td>\n",
              "      <td>21</td>\n",
              "      <td>4.000000</td>\n",
              "      <td>2</td>\n",
              "      <td>0</td>\n",
              "      <td>0</td>\n",
              "      <td>1</td>\n",
              "      <td>0</td>\n",
              "      <td>0</td>\n",
              "      <td>0</td>\n",
              "      <td>1</td>\n",
              "      <td>0</td>\n",
              "      <td>0</td>\n",
              "      <td>0</td>\n",
              "      <td>0</td>\n",
              "      <td>0</td>\n",
              "    </tr>\n",
              "    <tr>\n",
              "      <th>1</th>\n",
              "      <td>35</td>\n",
              "      <td>0</td>\n",
              "      <td>1</td>\n",
              "      <td>0.976</td>\n",
              "      <td>27</td>\n",
              "      <td>3.083333</td>\n",
              "      <td>3</td>\n",
              "      <td>0</td>\n",
              "      <td>0</td>\n",
              "      <td>0</td>\n",
              "      <td>1</td>\n",
              "      <td>0</td>\n",
              "      <td>0</td>\n",
              "      <td>0</td>\n",
              "      <td>0</td>\n",
              "      <td>0</td>\n",
              "      <td>1</td>\n",
              "      <td>0</td>\n",
              "      <td>0</td>\n",
              "    </tr>\n",
              "    <tr>\n",
              "      <th>2</th>\n",
              "      <td>27</td>\n",
              "      <td>0</td>\n",
              "      <td>1</td>\n",
              "      <td>0.720</td>\n",
              "      <td>15</td>\n",
              "      <td>3.333333</td>\n",
              "      <td>1</td>\n",
              "      <td>1</td>\n",
              "      <td>0</td>\n",
              "      <td>0</td>\n",
              "      <td>0</td>\n",
              "      <td>0</td>\n",
              "      <td>0</td>\n",
              "      <td>1</td>\n",
              "      <td>0</td>\n",
              "      <td>0</td>\n",
              "      <td>0</td>\n",
              "      <td>0</td>\n",
              "      <td>0</td>\n",
              "    </tr>\n",
              "    <tr>\n",
              "      <th>3</th>\n",
              "      <td>26</td>\n",
              "      <td>0</td>\n",
              "      <td>0</td>\n",
              "      <td>1.000</td>\n",
              "      <td>37</td>\n",
              "      <td>2.500000</td>\n",
              "      <td>1</td>\n",
              "      <td>0</td>\n",
              "      <td>0</td>\n",
              "      <td>0</td>\n",
              "      <td>0</td>\n",
              "      <td>0</td>\n",
              "      <td>1</td>\n",
              "      <td>0</td>\n",
              "      <td>0</td>\n",
              "      <td>0</td>\n",
              "      <td>1</td>\n",
              "      <td>0</td>\n",
              "      <td>0</td>\n",
              "    </tr>\n",
              "    <tr>\n",
              "      <th>4</th>\n",
              "      <td>28</td>\n",
              "      <td>0</td>\n",
              "      <td>1</td>\n",
              "      <td>0.967</td>\n",
              "      <td>29</td>\n",
              "      <td>4.000000</td>\n",
              "      <td>1</td>\n",
              "      <td>1</td>\n",
              "      <td>0</td>\n",
              "      <td>0</td>\n",
              "      <td>0</td>\n",
              "      <td>0</td>\n",
              "      <td>0</td>\n",
              "      <td>0</td>\n",
              "      <td>0</td>\n",
              "      <td>1</td>\n",
              "      <td>0</td>\n",
              "      <td>0</td>\n",
              "      <td>0</td>\n",
              "    </tr>\n",
              "  </tbody>\n",
              "</table>\n",
              "</div>\n",
              "      <button class=\"colab-df-convert\" onclick=\"convertToInteractive('df-127d9e1f-50ca-4f5c-a209-a0f41327b611')\"\n",
              "              title=\"Convert this dataframe to an interactive table.\"\n",
              "              style=\"display:none;\">\n",
              "        \n",
              "  <svg xmlns=\"http://www.w3.org/2000/svg\" height=\"24px\"viewBox=\"0 0 24 24\"\n",
              "       width=\"24px\">\n",
              "    <path d=\"M0 0h24v24H0V0z\" fill=\"none\"/>\n",
              "    <path d=\"M18.56 5.44l.94 2.06.94-2.06 2.06-.94-2.06-.94-.94-2.06-.94 2.06-2.06.94zm-11 1L8.5 8.5l.94-2.06 2.06-.94-2.06-.94L8.5 2.5l-.94 2.06-2.06.94zm10 10l.94 2.06.94-2.06 2.06-.94-2.06-.94-.94-2.06-.94 2.06-2.06.94z\"/><path d=\"M17.41 7.96l-1.37-1.37c-.4-.4-.92-.59-1.43-.59-.52 0-1.04.2-1.43.59L10.3 9.45l-7.72 7.72c-.78.78-.78 2.05 0 2.83L4 21.41c.39.39.9.59 1.41.59.51 0 1.02-.2 1.41-.59l7.78-7.78 2.81-2.81c.8-.78.8-2.07 0-2.86zM5.41 20L4 18.59l7.72-7.72 1.47 1.35L5.41 20z\"/>\n",
              "  </svg>\n",
              "      </button>\n",
              "      \n",
              "  <style>\n",
              "    .colab-df-container {\n",
              "      display:flex;\n",
              "      flex-wrap:wrap;\n",
              "      gap: 12px;\n",
              "    }\n",
              "\n",
              "    .colab-df-convert {\n",
              "      background-color: #E8F0FE;\n",
              "      border: none;\n",
              "      border-radius: 50%;\n",
              "      cursor: pointer;\n",
              "      display: none;\n",
              "      fill: #1967D2;\n",
              "      height: 32px;\n",
              "      padding: 0 0 0 0;\n",
              "      width: 32px;\n",
              "    }\n",
              "\n",
              "    .colab-df-convert:hover {\n",
              "      background-color: #E2EBFA;\n",
              "      box-shadow: 0px 1px 2px rgba(60, 64, 67, 0.3), 0px 1px 3px 1px rgba(60, 64, 67, 0.15);\n",
              "      fill: #174EA6;\n",
              "    }\n",
              "\n",
              "    [theme=dark] .colab-df-convert {\n",
              "      background-color: #3B4455;\n",
              "      fill: #D2E3FC;\n",
              "    }\n",
              "\n",
              "    [theme=dark] .colab-df-convert:hover {\n",
              "      background-color: #434B5C;\n",
              "      box-shadow: 0px 1px 3px 1px rgba(0, 0, 0, 0.15);\n",
              "      filter: drop-shadow(0px 1px 2px rgba(0, 0, 0, 0.3));\n",
              "      fill: #FFFFFF;\n",
              "    }\n",
              "  </style>\n",
              "\n",
              "      <script>\n",
              "        const buttonEl =\n",
              "          document.querySelector('#df-127d9e1f-50ca-4f5c-a209-a0f41327b611 button.colab-df-convert');\n",
              "        buttonEl.style.display =\n",
              "          google.colab.kernel.accessAllowed ? 'block' : 'none';\n",
              "\n",
              "        async function convertToInteractive(key) {\n",
              "          const element = document.querySelector('#df-127d9e1f-50ca-4f5c-a209-a0f41327b611');\n",
              "          const dataTable =\n",
              "            await google.colab.kernel.invokeFunction('convertToInteractive',\n",
              "                                                     [key], {});\n",
              "          if (!dataTable) return;\n",
              "\n",
              "          const docLinkHtml = 'Like what you see? Visit the ' +\n",
              "            '<a target=\"_blank\" href=https://colab.research.google.com/notebooks/data_table.ipynb>data table notebook</a>'\n",
              "            + ' to learn more about interactive tables.';\n",
              "          element.innerHTML = '';\n",
              "          dataTable['output_type'] = 'display_data';\n",
              "          await google.colab.output.renderOutput(dataTable, element);\n",
              "          const docLink = document.createElement('div');\n",
              "          docLink.innerHTML = docLinkHtml;\n",
              "          element.appendChild(docLink);\n",
              "        }\n",
              "      </script>\n",
              "    </div>\n",
              "  </div>\n",
              "  "
            ]
          },
          "metadata": {},
          "execution_count": 167
        }
      ]
    },
    {
      "cell_type": "code",
      "source": [
        "!ls"
      ],
      "metadata": {
        "colab": {
          "base_uri": "https://localhost:8080/"
        },
        "id": "EMtiLbj1WWfU",
        "outputId": "1ef6aa9c-a6d7-4f8e-bced-84054abc1934"
      },
      "execution_count": null,
      "outputs": [
        {
          "output_type": "stream",
          "name": "stdout",
          "text": [
            "all_code.ipynb\tEWS_197.csv\t      Inference_70.csv\tlr.pkl\txgb.pkl\n",
            "ce_ohe.pkl\tinfer_data_final.csv  knn.pkl\t\trf.pkl\n"
          ]
        }
      ]
    },
    {
      "cell_type": "code",
      "source": [
        "df_infer.drop(columns='ID',inplace=True)"
      ],
      "metadata": {
        "id": "Otmy7f5BXL4c"
      },
      "execution_count": null,
      "outputs": []
    },
    {
      "cell_type": "code",
      "source": [
        "# Predictions on Inference Data\n",
        "model = joblib.load('rf.pkl')\n",
        "predictions = model.predict(df_infer)    # for 1/0\n",
        "probabilities = model.predict_proba(df_infer)[:,1]           # b/w 0 and 1"
      ],
      "metadata": {
        "id": "BdYT__fxdM4W"
      },
      "execution_count": null,
      "outputs": []
    },
    {
      "cell_type": "code",
      "source": [
        "probabilities"
      ],
      "metadata": {
        "colab": {
          "base_uri": "https://localhost:8080/"
        },
        "id": "XXFCTcnfdUno",
        "outputId": "2b8b5ff9-b82f-441e-ef9f-9f606b9c0b55"
      },
      "execution_count": null,
      "outputs": [
        {
          "output_type": "execute_result",
          "data": {
            "text/plain": [
              "array([0.35, 0.02, 0.67, 0.09, 0.36, 0.49, 0.3 , 0.13, 0.16, 0.06, 0.62,\n",
              "       0.09, 0.11, 0.28, 0.31, 0.38, 0.06, 0.05, 0.34, 0.28, 0.11, 0.05,\n",
              "       0.35, 0.02, 0.25, 0.36, 0.1 , 0.36, 0.01, 0.1 , 0.23, 0.12, 0.09,\n",
              "       0.11, 0.16, 0.22, 0.15, 0.19, 0.01, 0.22, 0.06, 0.39, 0.38, 0.15,\n",
              "       0.1 , 0.27, 0.  , 0.04, 0.09, 0.23, 0.22, 0.31, 0.16, 0.15, 0.12,\n",
              "       0.05, 0.14, 0.02, 0.09, 0.2 , 0.03, 0.37, 0.09, 0.2 , 0.04, 0.34,\n",
              "       0.15, 0.3 , 0.31, 0.09])"
            ]
          },
          "metadata": {},
          "execution_count": 36
        }
      ]
    },
    {
      "cell_type": "code",
      "source": [
        "infer_data['Predictions'] = predictions\n",
        "infer_data['Probabilities'] = probabilities"
      ],
      "metadata": {
        "id": "cjLy5s3gdmVu"
      },
      "execution_count": null,
      "outputs": []
    },
    {
      "cell_type": "code",
      "source": [
        "infer_data.to_csv('infer_data_rf.csv',index=False)"
      ],
      "metadata": {
        "id": "9lwcO4Dhdxqf"
      },
      "execution_count": null,
      "outputs": []
    },
    {
      "cell_type": "code",
      "source": [
        "# Predictions on Inference Data\n",
        "model = joblib.load('xgb.pkl')\n",
        "predictions = model.predict(df_infer)    # for 1/0\n",
        "probabilities = model.predict_proba(df_infer)[:,1]           # b/w 0 and 1"
      ],
      "metadata": {
        "id": "Hq2gQe9JVLuJ"
      },
      "execution_count": null,
      "outputs": []
    },
    {
      "cell_type": "code",
      "source": [
        "infer_data['Predictions'] = predictions\n",
        "infer_data['Probabilities'] = probabilities"
      ],
      "metadata": {
        "id": "dekbi73iXVgV"
      },
      "execution_count": null,
      "outputs": []
    },
    {
      "cell_type": "code",
      "source": [
        "infer_data"
      ],
      "metadata": {
        "colab": {
          "base_uri": "https://localhost:8080/",
          "height": 423
        },
        "id": "ErX9BMwkXxiP",
        "outputId": "1c59676b-e3d7-413f-cec9-405b62aab909"
      },
      "execution_count": null,
      "outputs": [
        {
          "output_type": "execute_result",
          "data": {
            "text/plain": [
              "    ID  Age  Campus Gender  Compa  Leaves   Ratings  Promotion Potential  \\\n",
              "0    4   28       0      M  0.783      21  4.000000          2       3.5   \n",
              "1    6   35       0      M  0.976      27  3.083333          3       3.0   \n",
              "2    7   27       0      M  0.720      15  3.333333          1       4.0   \n",
              "3    8   26       0      F  1.000      37  2.500000          1       2.5   \n",
              "4    9   28       0      M  0.967      29  4.000000          1       4.0   \n",
              "..  ..  ...     ...    ...    ...     ...       ...        ...       ...   \n",
              "65  73   24       1      M  1.000      18  3.500000          1       3.5   \n",
              "66  74   29       0      M  1.250      26  4.500000          0       4.0   \n",
              "67  75   27       1      M  0.792      35  4.083333          0       4.0   \n",
              "68  76   27       1      M  1.071      17  4.250000          0       4.5   \n",
              "69  77   30       0      M  0.961      11  3.833333          1       4.0   \n",
              "\n",
              "   Performance  Predictions  Probabilities  \n",
              "0          4.0            0       0.414657  \n",
              "1          3.0            0       0.428247  \n",
              "2          4.0            1       0.579377  \n",
              "3          3.0            0       0.428247  \n",
              "4          3.5            0       0.414657  \n",
              "..         ...          ...            ...  \n",
              "65         4.5            0       0.417366  \n",
              "66         4.0            0       0.444286  \n",
              "67         4.0            0       0.414657  \n",
              "68         4.5            0       0.414657  \n",
              "69         4.0            0       0.414657  \n",
              "\n",
              "[70 rows x 12 columns]"
            ],
            "text/html": [
              "\n",
              "  <div id=\"df-f025eb2e-468e-4242-9317-729e937ff77f\">\n",
              "    <div class=\"colab-df-container\">\n",
              "      <div>\n",
              "<style scoped>\n",
              "    .dataframe tbody tr th:only-of-type {\n",
              "        vertical-align: middle;\n",
              "    }\n",
              "\n",
              "    .dataframe tbody tr th {\n",
              "        vertical-align: top;\n",
              "    }\n",
              "\n",
              "    .dataframe thead th {\n",
              "        text-align: right;\n",
              "    }\n",
              "</style>\n",
              "<table border=\"1\" class=\"dataframe\">\n",
              "  <thead>\n",
              "    <tr style=\"text-align: right;\">\n",
              "      <th></th>\n",
              "      <th>ID</th>\n",
              "      <th>Age</th>\n",
              "      <th>Campus</th>\n",
              "      <th>Gender</th>\n",
              "      <th>Compa</th>\n",
              "      <th>Leaves</th>\n",
              "      <th>Ratings</th>\n",
              "      <th>Promotion</th>\n",
              "      <th>Potential</th>\n",
              "      <th>Performance</th>\n",
              "      <th>Predictions</th>\n",
              "      <th>Probabilities</th>\n",
              "    </tr>\n",
              "  </thead>\n",
              "  <tbody>\n",
              "    <tr>\n",
              "      <th>0</th>\n",
              "      <td>4</td>\n",
              "      <td>28</td>\n",
              "      <td>0</td>\n",
              "      <td>M</td>\n",
              "      <td>0.783</td>\n",
              "      <td>21</td>\n",
              "      <td>4.000000</td>\n",
              "      <td>2</td>\n",
              "      <td>3.5</td>\n",
              "      <td>4.0</td>\n",
              "      <td>0</td>\n",
              "      <td>0.414657</td>\n",
              "    </tr>\n",
              "    <tr>\n",
              "      <th>1</th>\n",
              "      <td>6</td>\n",
              "      <td>35</td>\n",
              "      <td>0</td>\n",
              "      <td>M</td>\n",
              "      <td>0.976</td>\n",
              "      <td>27</td>\n",
              "      <td>3.083333</td>\n",
              "      <td>3</td>\n",
              "      <td>3.0</td>\n",
              "      <td>3.0</td>\n",
              "      <td>0</td>\n",
              "      <td>0.428247</td>\n",
              "    </tr>\n",
              "    <tr>\n",
              "      <th>2</th>\n",
              "      <td>7</td>\n",
              "      <td>27</td>\n",
              "      <td>0</td>\n",
              "      <td>M</td>\n",
              "      <td>0.720</td>\n",
              "      <td>15</td>\n",
              "      <td>3.333333</td>\n",
              "      <td>1</td>\n",
              "      <td>4.0</td>\n",
              "      <td>4.0</td>\n",
              "      <td>1</td>\n",
              "      <td>0.579377</td>\n",
              "    </tr>\n",
              "    <tr>\n",
              "      <th>3</th>\n",
              "      <td>8</td>\n",
              "      <td>26</td>\n",
              "      <td>0</td>\n",
              "      <td>F</td>\n",
              "      <td>1.000</td>\n",
              "      <td>37</td>\n",
              "      <td>2.500000</td>\n",
              "      <td>1</td>\n",
              "      <td>2.5</td>\n",
              "      <td>3.0</td>\n",
              "      <td>0</td>\n",
              "      <td>0.428247</td>\n",
              "    </tr>\n",
              "    <tr>\n",
              "      <th>4</th>\n",
              "      <td>9</td>\n",
              "      <td>28</td>\n",
              "      <td>0</td>\n",
              "      <td>M</td>\n",
              "      <td>0.967</td>\n",
              "      <td>29</td>\n",
              "      <td>4.000000</td>\n",
              "      <td>1</td>\n",
              "      <td>4.0</td>\n",
              "      <td>3.5</td>\n",
              "      <td>0</td>\n",
              "      <td>0.414657</td>\n",
              "    </tr>\n",
              "    <tr>\n",
              "      <th>...</th>\n",
              "      <td>...</td>\n",
              "      <td>...</td>\n",
              "      <td>...</td>\n",
              "      <td>...</td>\n",
              "      <td>...</td>\n",
              "      <td>...</td>\n",
              "      <td>...</td>\n",
              "      <td>...</td>\n",
              "      <td>...</td>\n",
              "      <td>...</td>\n",
              "      <td>...</td>\n",
              "      <td>...</td>\n",
              "    </tr>\n",
              "    <tr>\n",
              "      <th>65</th>\n",
              "      <td>73</td>\n",
              "      <td>24</td>\n",
              "      <td>1</td>\n",
              "      <td>M</td>\n",
              "      <td>1.000</td>\n",
              "      <td>18</td>\n",
              "      <td>3.500000</td>\n",
              "      <td>1</td>\n",
              "      <td>3.5</td>\n",
              "      <td>4.5</td>\n",
              "      <td>0</td>\n",
              "      <td>0.417366</td>\n",
              "    </tr>\n",
              "    <tr>\n",
              "      <th>66</th>\n",
              "      <td>74</td>\n",
              "      <td>29</td>\n",
              "      <td>0</td>\n",
              "      <td>M</td>\n",
              "      <td>1.250</td>\n",
              "      <td>26</td>\n",
              "      <td>4.500000</td>\n",
              "      <td>0</td>\n",
              "      <td>4.0</td>\n",
              "      <td>4.0</td>\n",
              "      <td>0</td>\n",
              "      <td>0.444286</td>\n",
              "    </tr>\n",
              "    <tr>\n",
              "      <th>67</th>\n",
              "      <td>75</td>\n",
              "      <td>27</td>\n",
              "      <td>1</td>\n",
              "      <td>M</td>\n",
              "      <td>0.792</td>\n",
              "      <td>35</td>\n",
              "      <td>4.083333</td>\n",
              "      <td>0</td>\n",
              "      <td>4.0</td>\n",
              "      <td>4.0</td>\n",
              "      <td>0</td>\n",
              "      <td>0.414657</td>\n",
              "    </tr>\n",
              "    <tr>\n",
              "      <th>68</th>\n",
              "      <td>76</td>\n",
              "      <td>27</td>\n",
              "      <td>1</td>\n",
              "      <td>M</td>\n",
              "      <td>1.071</td>\n",
              "      <td>17</td>\n",
              "      <td>4.250000</td>\n",
              "      <td>0</td>\n",
              "      <td>4.5</td>\n",
              "      <td>4.5</td>\n",
              "      <td>0</td>\n",
              "      <td>0.414657</td>\n",
              "    </tr>\n",
              "    <tr>\n",
              "      <th>69</th>\n",
              "      <td>77</td>\n",
              "      <td>30</td>\n",
              "      <td>0</td>\n",
              "      <td>M</td>\n",
              "      <td>0.961</td>\n",
              "      <td>11</td>\n",
              "      <td>3.833333</td>\n",
              "      <td>1</td>\n",
              "      <td>4.0</td>\n",
              "      <td>4.0</td>\n",
              "      <td>0</td>\n",
              "      <td>0.414657</td>\n",
              "    </tr>\n",
              "  </tbody>\n",
              "</table>\n",
              "<p>70 rows × 12 columns</p>\n",
              "</div>\n",
              "      <button class=\"colab-df-convert\" onclick=\"convertToInteractive('df-f025eb2e-468e-4242-9317-729e937ff77f')\"\n",
              "              title=\"Convert this dataframe to an interactive table.\"\n",
              "              style=\"display:none;\">\n",
              "        \n",
              "  <svg xmlns=\"http://www.w3.org/2000/svg\" height=\"24px\"viewBox=\"0 0 24 24\"\n",
              "       width=\"24px\">\n",
              "    <path d=\"M0 0h24v24H0V0z\" fill=\"none\"/>\n",
              "    <path d=\"M18.56 5.44l.94 2.06.94-2.06 2.06-.94-2.06-.94-.94-2.06-.94 2.06-2.06.94zm-11 1L8.5 8.5l.94-2.06 2.06-.94-2.06-.94L8.5 2.5l-.94 2.06-2.06.94zm10 10l.94 2.06.94-2.06 2.06-.94-2.06-.94-.94-2.06-.94 2.06-2.06.94z\"/><path d=\"M17.41 7.96l-1.37-1.37c-.4-.4-.92-.59-1.43-.59-.52 0-1.04.2-1.43.59L10.3 9.45l-7.72 7.72c-.78.78-.78 2.05 0 2.83L4 21.41c.39.39.9.59 1.41.59.51 0 1.02-.2 1.41-.59l7.78-7.78 2.81-2.81c.8-.78.8-2.07 0-2.86zM5.41 20L4 18.59l7.72-7.72 1.47 1.35L5.41 20z\"/>\n",
              "  </svg>\n",
              "      </button>\n",
              "      \n",
              "  <style>\n",
              "    .colab-df-container {\n",
              "      display:flex;\n",
              "      flex-wrap:wrap;\n",
              "      gap: 12px;\n",
              "    }\n",
              "\n",
              "    .colab-df-convert {\n",
              "      background-color: #E8F0FE;\n",
              "      border: none;\n",
              "      border-radius: 50%;\n",
              "      cursor: pointer;\n",
              "      display: none;\n",
              "      fill: #1967D2;\n",
              "      height: 32px;\n",
              "      padding: 0 0 0 0;\n",
              "      width: 32px;\n",
              "    }\n",
              "\n",
              "    .colab-df-convert:hover {\n",
              "      background-color: #E2EBFA;\n",
              "      box-shadow: 0px 1px 2px rgba(60, 64, 67, 0.3), 0px 1px 3px 1px rgba(60, 64, 67, 0.15);\n",
              "      fill: #174EA6;\n",
              "    }\n",
              "\n",
              "    [theme=dark] .colab-df-convert {\n",
              "      background-color: #3B4455;\n",
              "      fill: #D2E3FC;\n",
              "    }\n",
              "\n",
              "    [theme=dark] .colab-df-convert:hover {\n",
              "      background-color: #434B5C;\n",
              "      box-shadow: 0px 1px 3px 1px rgba(0, 0, 0, 0.15);\n",
              "      filter: drop-shadow(0px 1px 2px rgba(0, 0, 0, 0.3));\n",
              "      fill: #FFFFFF;\n",
              "    }\n",
              "  </style>\n",
              "\n",
              "      <script>\n",
              "        const buttonEl =\n",
              "          document.querySelector('#df-f025eb2e-468e-4242-9317-729e937ff77f button.colab-df-convert');\n",
              "        buttonEl.style.display =\n",
              "          google.colab.kernel.accessAllowed ? 'block' : 'none';\n",
              "\n",
              "        async function convertToInteractive(key) {\n",
              "          const element = document.querySelector('#df-f025eb2e-468e-4242-9317-729e937ff77f');\n",
              "          const dataTable =\n",
              "            await google.colab.kernel.invokeFunction('convertToInteractive',\n",
              "                                                     [key], {});\n",
              "          if (!dataTable) return;\n",
              "\n",
              "          const docLinkHtml = 'Like what you see? Visit the ' +\n",
              "            '<a target=\"_blank\" href=https://colab.research.google.com/notebooks/data_table.ipynb>data table notebook</a>'\n",
              "            + ' to learn more about interactive tables.';\n",
              "          element.innerHTML = '';\n",
              "          dataTable['output_type'] = 'display_data';\n",
              "          await google.colab.output.renderOutput(dataTable, element);\n",
              "          const docLink = document.createElement('div');\n",
              "          docLink.innerHTML = docLinkHtml;\n",
              "          element.appendChild(docLink);\n",
              "        }\n",
              "      </script>\n",
              "    </div>\n",
              "  </div>\n",
              "  "
            ]
          },
          "metadata": {},
          "execution_count": 171
        }
      ]
    },
    {
      "cell_type": "code",
      "source": [
        "#infer_data.to_csv('infer_data_final.csv',index=False)"
      ],
      "metadata": {
        "id": "ASincTLwZIEf"
      },
      "execution_count": null,
      "outputs": []
    },
    {
      "cell_type": "code",
      "source": [
        "!zip -r 'all_work.zip' '/content/drive/MyDrive/shahreyar'"
      ],
      "metadata": {
        "colab": {
          "base_uri": "https://localhost:8080/"
        },
        "id": "a8fxbIeBXyvV",
        "outputId": "0c511e64-e412-4b31-f348-2c5bc1b5a2c0"
      },
      "execution_count": null,
      "outputs": [
        {
          "output_type": "stream",
          "name": "stdout",
          "text": [
            "updating: content/drive/MyDrive/shahreyar/ (stored 0%)\n",
            "updating: content/drive/MyDrive/shahreyar/EWS_197.csv (deflated 70%)\n",
            "updating: content/drive/MyDrive/shahreyar/Inference_70.csv (deflated 65%)\n",
            "updating: content/drive/MyDrive/shahreyar/ce_ohe.pkl (deflated 69%)\n",
            "updating: content/drive/MyDrive/shahreyar/lr.pkl (deflated 36%)\n",
            "updating: content/drive/MyDrive/shahreyar/rf.pkl (deflated 85%)\n",
            "updating: content/drive/MyDrive/shahreyar/knn.pkl (deflated 89%)\n",
            "updating: content/drive/MyDrive/shahreyar/xgb.pkl (deflated 74%)\n",
            "  adding: content/drive/MyDrive/shahreyar/infer_data_final.csv (deflated 71%)\n"
          ]
        }
      ]
    },
    {
      "cell_type": "code",
      "source": [
        "!ls"
      ],
      "metadata": {
        "colab": {
          "base_uri": "https://localhost:8080/"
        },
        "id": "EkVn9EFqYDFK",
        "outputId": "6e9ce2e9-d54a-4338-f527-f749d6ded8a3"
      },
      "execution_count": null,
      "outputs": [
        {
          "output_type": "stream",
          "name": "stdout",
          "text": [
            "all_work.zip  EWS_197.csv\t    Inference_70.csv  lr.pkl  xgb.pkl\n",
            "ce_ohe.pkl    infer_data_final.csv  knn.pkl\t      rf.pkl\n"
          ]
        }
      ]
    },
    {
      "cell_type": "code",
      "source": [
        ""
      ],
      "metadata": {
        "id": "81ROIo04YG8i"
      },
      "execution_count": null,
      "outputs": []
    }
  ]
}